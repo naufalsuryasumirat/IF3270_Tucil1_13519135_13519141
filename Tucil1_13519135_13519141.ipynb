{
 "cells": [
  {
   "cell_type": "code",
   "execution_count": 67,
   "id": "17f1b6fc",
   "metadata": {},
   "outputs": [],
   "source": [
    "import sklearn\n",
    "from sklearn import tree, datasets\n",
    "from sklearn.tree import export_text\n",
    "from sklearn.metrics import f1_score, accuracy_score\n",
    "from sklearn.model_selection import train_test_split"
   ]
  },
  {
   "cell_type": "code",
   "execution_count": 44,
   "id": "91d72314",
   "metadata": {},
   "outputs": [],
   "source": [
    "# Load Dataset\n",
    "data_bc = sklearn.datasets.load_breast_cancer()\n",
    "# Splitting Data Sets (80% training, 20% scoring/validating/testing)\n",
    "x, y = data_bc.data, data_bc.target\n",
    "x_train, x_test, y_train, y_test = train_test_split(x, y, test_size = 0.2, random_state = 420)"
   ]
  },
  {
   "cell_type": "code",
   "execution_count": 62,
   "id": "92502e2a",
   "metadata": {},
   "outputs": [
    {
     "data": {
      "text/plain": [
       "0.9210526315789473"
      ]
     },
     "execution_count": 62,
     "metadata": {},
     "output_type": "execute_result"
    }
   ],
   "source": [
    "# DecisionTreeClassifier (Breast Cancer)\n",
    "clf_dtc_bc = sklearn.tree.DecisionTreeClassifier() # Classifier DecisionTreeClassifier for Breast Cancer\n",
    "clf_dtc_bc = clf_dtc_bc.fit(x_train, y_train)\n",
    "clf_dtc_bc.score(x_test, y_test)"
   ]
  },
  {
   "cell_type": "code",
   "execution_count": 84,
   "id": "91e11209",
   "metadata": {
    "scrolled": false
   },
   "outputs": [
    {
     "data": {
      "text/plain": [
       "[Text(243.0519230769231, 203.85, 'X[22] <= 114.45\\ngini = 0.463\\nsamples = 455\\nvalue = [166, 289]'),\n",
       " Text(189.9346153846154, 176.67000000000002, 'X[27] <= 0.16\\ngini = 0.185\\nsamples = 320\\nvalue = [33, 287]'),\n",
       " Text(122.33076923076923, 149.49, 'X[13] <= 33.005\\ngini = 0.112\\nsamples = 303\\nvalue = [18, 285]'),\n",
       " Text(64.38461538461539, 122.31, 'X[27] <= 0.132\\ngini = 0.037\\nsamples = 266\\nvalue = [5, 261]'),\n",
       " Text(25.753846153846155, 95.13, 'X[21] <= 33.27\\ngini = 0.008\\nsamples = 246\\nvalue = [1, 245]'),\n",
       " Text(12.876923076923077, 67.94999999999999, 'gini = 0.0\\nsamples = 230\\nvalue = [0, 230]'),\n",
       " Text(38.63076923076923, 67.94999999999999, 'X[27] <= 0.092\\ngini = 0.117\\nsamples = 16\\nvalue = [1, 15]'),\n",
       " Text(25.753846153846155, 40.77000000000001, 'gini = 0.0\\nsamples = 15\\nvalue = [0, 15]'),\n",
       " Text(51.50769230769231, 40.77000000000001, 'gini = 0.0\\nsamples = 1\\nvalue = [1, 0]'),\n",
       " Text(103.01538461538462, 95.13, 'X[21] <= 29.06\\ngini = 0.32\\nsamples = 20\\nvalue = [4, 16]'),\n",
       " Text(90.13846153846154, 67.94999999999999, 'X[17] <= 0.01\\ngini = 0.111\\nsamples = 17\\nvalue = [1, 16]'),\n",
       " Text(77.26153846153846, 40.77000000000001, 'X[10] <= 0.239\\ngini = 0.5\\nsamples = 2\\nvalue = [1, 1]'),\n",
       " Text(64.38461538461539, 13.590000000000003, 'gini = 0.0\\nsamples = 1\\nvalue = [0, 1]'),\n",
       " Text(90.13846153846154, 13.590000000000003, 'gini = 0.0\\nsamples = 1\\nvalue = [1, 0]'),\n",
       " Text(103.01538461538462, 40.77000000000001, 'gini = 0.0\\nsamples = 15\\nvalue = [0, 15]'),\n",
       " Text(115.8923076923077, 67.94999999999999, 'gini = 0.0\\nsamples = 3\\nvalue = [3, 0]'),\n",
       " Text(180.27692307692308, 122.31, 'X[26] <= 0.264\\ngini = 0.456\\nsamples = 37\\nvalue = [13, 24]'),\n",
       " Text(154.52307692307693, 95.13, 'X[3] <= 694.15\\ngini = 0.26\\nsamples = 26\\nvalue = [4, 22]'),\n",
       " Text(141.64615384615385, 67.94999999999999, 'X[13] <= 48.975\\ngini = 0.083\\nsamples = 23\\nvalue = [1, 22]'),\n",
       " Text(128.76923076923077, 40.77000000000001, 'gini = 0.0\\nsamples = 21\\nvalue = [0, 21]'),\n",
       " Text(154.52307692307693, 40.77000000000001, 'X[29] <= 0.079\\ngini = 0.5\\nsamples = 2\\nvalue = [1, 1]'),\n",
       " Text(141.64615384615385, 13.590000000000003, 'gini = 0.0\\nsamples = 1\\nvalue = [1, 0]'),\n",
       " Text(167.4, 13.590000000000003, 'gini = 0.0\\nsamples = 1\\nvalue = [0, 1]'),\n",
       " Text(167.4, 67.94999999999999, 'gini = 0.0\\nsamples = 3\\nvalue = [3, 0]'),\n",
       " Text(206.03076923076924, 95.13, 'X[1] <= 16.195\\ngini = 0.298\\nsamples = 11\\nvalue = [9, 2]'),\n",
       " Text(193.15384615384616, 67.94999999999999, 'gini = 0.0\\nsamples = 2\\nvalue = [0, 2]'),\n",
       " Text(218.90769230769232, 67.94999999999999, 'gini = 0.0\\nsamples = 9\\nvalue = [9, 0]'),\n",
       " Text(257.53846153846155, 149.49, 'X[21] <= 23.47\\ngini = 0.208\\nsamples = 17\\nvalue = [15, 2]'),\n",
       " Text(244.66153846153847, 122.31, 'X[7] <= 0.083\\ngini = 0.444\\nsamples = 3\\nvalue = [1, 2]'),\n",
       " Text(231.7846153846154, 95.13, 'gini = 0.0\\nsamples = 2\\nvalue = [0, 2]'),\n",
       " Text(257.53846153846155, 95.13, 'gini = 0.0\\nsamples = 1\\nvalue = [1, 0]'),\n",
       " Text(270.4153846153846, 122.31, 'gini = 0.0\\nsamples = 14\\nvalue = [14, 0]'),\n",
       " Text(296.1692307692308, 176.67000000000002, 'X[10] <= 0.24\\ngini = 0.029\\nsamples = 135\\nvalue = [133, 2]'),\n",
       " Text(283.2923076923077, 149.49, 'gini = 0.0\\nsamples = 1\\nvalue = [0, 1]'),\n",
       " Text(309.04615384615386, 149.49, 'X[8] <= 0.151\\ngini = 0.015\\nsamples = 134\\nvalue = [133, 1]'),\n",
       " Text(296.1692307692308, 122.31, 'X[16] <= 0.026\\ngini = 0.444\\nsamples = 3\\nvalue = [2, 1]'),\n",
       " Text(283.2923076923077, 95.13, 'gini = 0.0\\nsamples = 1\\nvalue = [0, 1]'),\n",
       " Text(309.04615384615386, 95.13, 'gini = 0.0\\nsamples = 2\\nvalue = [2, 0]'),\n",
       " Text(321.9230769230769, 122.31, 'gini = 0.0\\nsamples = 131\\nvalue = [131, 0]')]"
      ]
     },
     "execution_count": 84,
     "metadata": {},
     "output_type": "execute_result"
    },
    {
     "data": {
      "image/png": "[encoded data removed]",
      "text/plain": [
       "<Figure size 432x288 with 1 Axes>"
      ]
     },
     "metadata": {
      "needs_background": "light"
     },
     "output_type": "display_data"
    }
   ],
   "source": [
    "# DecisionTreeClassifier Plot\n",
    "tree.plot_tree(clf_dtc_bc)"
   ]
  },
  {
   "cell_type": "code",
   "execution_count": 105,
   "id": "00878b43",
   "metadata": {},
   "outputs": [
    {
     "ename": "ValueError",
     "evalue": "The truth value of an array with more than one element is ambiguous. Use a.any() or a.all()",
     "output_type": "error",
     "traceback": [
      "\u001b[1;31m---------------------------------------------------------------------------\u001b[0m",
      "\u001b[1;31mValueError\u001b[0m                                Traceback (most recent call last)",
      "\u001b[1;32m<ipython-input-105-686a29015a67>\u001b[0m in \u001b[0;36m<module>\u001b[1;34m\u001b[0m\n\u001b[0;32m      1\u001b[0m \u001b[1;31m# Export DecicisionTreeClassifier as Text\u001b[0m\u001b[1;33m\u001b[0m\u001b[1;33m\u001b[0m\u001b[1;33m\u001b[0m\u001b[0m\n\u001b[1;32m----> 2\u001b[1;33m \u001b[0mr\u001b[0m \u001b[1;33m=\u001b[0m \u001b[0mtree\u001b[0m\u001b[1;33m.\u001b[0m\u001b[0mexport_text\u001b[0m\u001b[1;33m(\u001b[0m\u001b[0mclf_dtc_bc\u001b[0m\u001b[1;33m,\u001b[0m \u001b[0mfeature_names\u001b[0m \u001b[1;33m=\u001b[0m \u001b[0mdata_bc\u001b[0m\u001b[1;33m.\u001b[0m\u001b[0mfeature_names\u001b[0m\u001b[1;33m)\u001b[0m\u001b[1;33m\u001b[0m\u001b[1;33m\u001b[0m\u001b[0m\n\u001b[0m\u001b[0;32m      3\u001b[0m \u001b[0mprint\u001b[0m\u001b[1;33m(\u001b[0m\u001b[0mr\u001b[0m\u001b[1;33m)\u001b[0m \u001b[1;31m#????? napa gabisa??\u001b[0m\u001b[1;33m\u001b[0m\u001b[1;33m\u001b[0m\u001b[0m\n",
      "\u001b[1;32m~\\anaconda3\\lib\\site-packages\\sklearn\\utils\\validation.py\u001b[0m in \u001b[0;36minner_f\u001b[1;34m(*args, **kwargs)\u001b[0m\n\u001b[0;32m     61\u001b[0m             \u001b[0mextra_args\u001b[0m \u001b[1;33m=\u001b[0m \u001b[0mlen\u001b[0m\u001b[1;33m(\u001b[0m\u001b[0margs\u001b[0m\u001b[1;33m)\u001b[0m \u001b[1;33m-\u001b[0m \u001b[0mlen\u001b[0m\u001b[1;33m(\u001b[0m\u001b[0mall_args\u001b[0m\u001b[1;33m)\u001b[0m\u001b[1;33m\u001b[0m\u001b[1;33m\u001b[0m\u001b[0m\n\u001b[0;32m     62\u001b[0m             \u001b[1;32mif\u001b[0m \u001b[0mextra_args\u001b[0m \u001b[1;33m<=\u001b[0m \u001b[1;36m0\u001b[0m\u001b[1;33m:\u001b[0m\u001b[1;33m\u001b[0m\u001b[1;33m\u001b[0m\u001b[0m\n\u001b[1;32m---> 63\u001b[1;33m                 \u001b[1;32mreturn\u001b[0m \u001b[0mf\u001b[0m\u001b[1;33m(\u001b[0m\u001b[1;33m*\u001b[0m\u001b[0margs\u001b[0m\u001b[1;33m,\u001b[0m \u001b[1;33m**\u001b[0m\u001b[0mkwargs\u001b[0m\u001b[1;33m)\u001b[0m\u001b[1;33m\u001b[0m\u001b[1;33m\u001b[0m\u001b[0m\n\u001b[0m\u001b[0;32m     64\u001b[0m \u001b[1;33m\u001b[0m\u001b[0m\n\u001b[0;32m     65\u001b[0m             \u001b[1;31m# extra_args > 0\u001b[0m\u001b[1;33m\u001b[0m\u001b[1;33m\u001b[0m\u001b[1;33m\u001b[0m\u001b[0m\n",
      "\u001b[1;32m~\\anaconda3\\lib\\site-packages\\sklearn\\tree\\_export.py\u001b[0m in \u001b[0;36mexport_text\u001b[1;34m(decision_tree, feature_names, max_depth, spacing, decimals, show_weights)\u001b[0m\n\u001b[0;32m    904\u001b[0m         \u001b[0mvalue_fmt\u001b[0m \u001b[1;33m=\u001b[0m \u001b[1;34m\"{}{} value: {}\\n\"\u001b[0m\u001b[1;33m\u001b[0m\u001b[1;33m\u001b[0m\u001b[0m\n\u001b[0;32m    905\u001b[0m \u001b[1;33m\u001b[0m\u001b[0m\n\u001b[1;32m--> 906\u001b[1;33m     \u001b[1;32mif\u001b[0m \u001b[0mfeature_names\u001b[0m\u001b[1;33m:\u001b[0m\u001b[1;33m\u001b[0m\u001b[1;33m\u001b[0m\u001b[0m\n\u001b[0m\u001b[0;32m    907\u001b[0m         feature_names_ = [feature_names[i] if i != _tree.TREE_UNDEFINED\n\u001b[0;32m    908\u001b[0m                           else None for i in tree_.feature]\n",
      "\u001b[1;31mValueError\u001b[0m: The truth value of an array with more than one element is ambiguous. Use a.any() or a.all()"
     ]
    }
   ],
   "source": [
    "# Export DecicisionTreeClassifier as Text\n",
    "r = tree.export_text(clf_dtc_bc, feature_names = data_bc.feature_names)\n",
    "print(r) #????? napa gabisa feature name nya????"
   ]
  },
  {
   "cell_type": "code",
   "execution_count": 72,
   "id": "92f351cd",
   "metadata": {},
   "outputs": [],
   "source": [
    "# Predicting using DecisionTreeClassifer previously made for Breast Cancer\n",
    "y_pred = clf_dtc_bc.predict(x_test) # Predicted by classifier\n",
    "y_true = y_test"
   ]
  },
  {
   "cell_type": "code",
   "execution_count": 73,
   "id": "52eb9838",
   "metadata": {},
   "outputs": [
    {
     "data": {
      "text/plain": [
       "0.9210526315789473"
      ]
     },
     "execution_count": 73,
     "metadata": {},
     "output_type": "execute_result"
    }
   ],
   "source": [
    "# Scoring DecisionTreeClassifier for Breast Cancer (Accuracy)\n",
    "accuracy_score(y_true, y_pred)"
   ]
  },
  {
   "cell_type": "code",
   "execution_count": 80,
   "id": "0871f9a5",
   "metadata": {},
   "outputs": [
    {
     "data": {
      "text/plain": [
       "0.9343065693430658"
      ]
     },
     "execution_count": 80,
     "metadata": {},
     "output_type": "execute_result"
    }
   ],
   "source": [
    "# Scoring DecisionTreeClassifier for Breat Cancer (F1)\n",
    "f1_score(y_true, y_pred, pos_label = 1)"
   ]
  },
  {
   "cell_type": "code",
   "execution_count": null,
   "id": "59a9e4f0",
   "metadata": {},
   "outputs": [],
   "source": []
  }
 ],
 "metadata": {
  "kernelspec": {
   "display_name": "Python 3",
   "language": "python",
   "name": "python3"
  },
  "language_info": {
   "codemirror_mode": {
    "name": "ipython",
    "version": 3
   },
   "file_extension": ".py",
   "mimetype": "text/x-python",
   "name": "python",
   "nbconvert_exporter": "python",
   "pygments_lexer": "ipython3",
   "version": "3.8.8"
  }
 },
 "nbformat": 4,
 "nbformat_minor": 5
}
