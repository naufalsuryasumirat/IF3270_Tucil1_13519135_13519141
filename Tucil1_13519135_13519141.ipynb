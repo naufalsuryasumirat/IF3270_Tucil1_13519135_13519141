{
 "cells": [
  {
   "cell_type": "markdown",
   "id": "jjAprzGFM1Ks",
   "metadata": {
    "id": "jjAprzGFM1Ks"
   },
   "source": [
    "# Tucil IF3270 Pembelajaran Mesin\n",
    "\n",
    "Naufal Alexander Suryasumirat - 13519135\n",
    "\n",
    "Naufal Yahya Kurnianto - 13519141"
   ]
  },
  {
   "cell_type": "markdown",
   "id": "FHLVlBpjNTYr",
   "metadata": {
    "id": "FHLVlBpjNTYr"
   },
   "source": [
    "## Import Libraries"
   ]
  },
  {
   "cell_type": "code",
   "execution_count": 1,
   "id": "mqlXtKTKb4QG",
   "metadata": {
    "id": "mqlXtKTKb4QG"
   },
   "outputs": [],
   "source": [
    "import six\n",
    "import sys\n",
    "sys.modules['sklearn.externals.six'] = six"
   ]
  },
  {
   "cell_type": "code",
   "execution_count": 2,
   "id": "17f1b6fc",
   "metadata": {
    "id": "17f1b6fc",
    "scrolled": true
   },
   "outputs": [],
   "source": [
    "import id3\n",
    "import sklearn\n",
    "import tabulate\n",
    "import pandas as pd\n",
    "import matplotlib.pyplot as plt\n",
    "from sklearn.svm import SVC\n",
    "from sklearn import compose\n",
    "from sklearn import preprocessing\n",
    "from sklearn import tree, datasets\n",
    "from sklearn.cluster import KMeans\n",
    "from sklearn.tree import export_text\n",
    "from sklearn.pipeline import make_pipeline\n",
    "from sklearn.preprocessing import StandardScaler\n",
    "from sklearn.neural_network import MLPClassifier\n",
    "from sklearn.linear_model import LogisticRegression\n",
    "from sklearn.metrics import f1_score, accuracy_score\n",
    "from sklearn.model_selection import train_test_split\n",
    "from id3 import Id3Estimator, export_graphviz, export_text"
   ]
  },
  {
   "cell_type": "code",
   "execution_count": 3,
   "id": "lO2yaRMyIJlb",
   "metadata": {
    "id": "lO2yaRMyIJlb"
   },
   "outputs": [],
   "source": [
    "# Function to print model parameters\n",
    "def show_param(model, custom_string):\n",
    "  print(custom_string)\n",
    "  params = model.get_params().items()\n",
    "  for i in params:\n",
    "    print(f\"{i[0]}: {i[1]}\")"
   ]
  },
  {
   "cell_type": "markdown",
   "id": "EZROg9vtLr_V",
   "metadata": {
    "id": "EZROg9vtLr_V"
   },
   "source": [
    "## Soal 1 - Membaca Dataset (Load Dataset)"
   ]
  },
  {
   "cell_type": "markdown",
   "id": "E7sHMZ1WTPRp",
   "metadata": {
    "id": "E7sHMZ1WTPRp"
   },
   "source": [
    "### Load Dataset Breast Cancer"
   ]
  },
  {
   "cell_type": "code",
   "execution_count": 4,
   "id": "91d72314",
   "metadata": {
    "id": "91d72314"
   },
   "outputs": [],
   "source": [
    "# Load Dataset Breast Cancer\n",
    "data_bc = sklearn.datasets.load_breast_cancer()\n",
    "# Splitting Data Sets (80% training, 20% scoring/validating/testing)\n",
    "x, y = data_bc.data, data_bc.target\n",
    "x_train, x_test, y_train, y_test = train_test_split(x, y, test_size = 0.2, random_state = 420)\n",
    "y_true = y_test"
   ]
  },
  {
   "cell_type": "markdown",
   "id": "QwQzjCMtTV4Q",
   "metadata": {
    "id": "QwQzjCMtTV4Q"
   },
   "source": [
    "### Load Dataset Play-Tennis"
   ]
  },
  {
   "cell_type": "code",
   "execution_count": 5,
   "id": "xx2i9IJ-W4HS",
   "metadata": {
    "id": "xx2i9IJ-W4HS"
   },
   "outputs": [],
   "source": [
    "url = 'https://gist.githubusercontent.com/DiogoRibeiro7/c6590d0cf119e87c39e31c21a9c0f3a8/raw/4a8e3da267a0c1f0d650901d8295a5153bde8b21/PlayTennis.csv'"
   ]
  },
  {
   "cell_type": "code",
   "execution_count": 6,
   "id": "K9Km7JUVTcw2",
   "metadata": {
    "id": "K9Km7JUVTcw2"
   },
   "outputs": [],
   "source": [
    "# Load Dataset Play-Tennis\n",
    "data_pt = pd.read_csv(url)\n",
    "x = data_pt.loc[:, ['Outlook', 'Temperature', 'Humidity', 'Wind']]\n",
    "y = data_pt['Play Tennis']\n",
    "x = x.apply(preprocessing.LabelEncoder().fit_transform)\n",
    "# Using LabelEncoder to convert Yes -> 1 and No -> 0\n",
    "le = preprocessing.LabelEncoder()\n",
    "y = le.fit_transform(y)\n",
    "# Splitting Data Sets (80% training, 20% scoring/validating/testing)\n",
    "x_train_pt, x_test_pt, y_train_pt, y_test_pt = train_test_split(x, y, test_size = 0.2, random_state = 1)\n",
    "\n",
    "y_true_pt = y_test_pt"
   ]
  },
  {
   "cell_type": "markdown",
   "id": "hlklUDhsTqgH",
   "metadata": {
    "id": "hlklUDhsTqgH"
   },
   "source": [
    "## Soal 2a & 3a - Pembelajaran, Prediksi, dan Evaluasi dengan Algoritma DecisionTreeClassifier"
   ]
  },
  {
   "cell_type": "markdown",
   "id": "83kyijDmcWwO",
   "metadata": {
    "id": "83kyijDmcWwO"
   },
   "source": [
    "### Breast Cancer Dataset"
   ]
  },
  {
   "cell_type": "code",
   "execution_count": 7,
   "id": "187cb9b2",
   "metadata": {
    "colab": {
     "base_uri": "https://localhost:8080/"
    },
    "id": "187cb9b2",
    "outputId": "2e27bc90-985b-48e6-e3ea-02b4cc789251"
   },
   "outputs": [
    {
     "name": "stdout",
     "output_type": "stream",
     "text": [
      "Parameters for DecisionTreeClassifier model Dataset Breast Cancer:\n",
      "ccp_alpha: 0.0\n",
      "class_weight: None\n",
      "criterion: gini\n",
      "max_depth: None\n",
      "max_features: None\n",
      "max_leaf_nodes: None\n",
      "min_impurity_decrease: 0.0\n",
      "min_impurity_split: None\n",
      "min_samples_leaf: 1\n",
      "min_samples_split: 2\n",
      "min_weight_fraction_leaf: 0.0\n",
      "random_state: None\n",
      "splitter: best\n"
     ]
    }
   ],
   "source": [
    "# DecisionTreeClassifier (Breast Cancer)\n",
    "clf_dtc_bc = sklearn.tree.DecisionTreeClassifier().fit(x_train, y_train)\n",
    "show_param(clf_dtc_bc, \"Parameters for DecisionTreeClassifier model Dataset Breast Cancer:\")"
   ]
  },
  {
   "cell_type": "code",
   "execution_count": 8,
   "id": "d4c665d9",
   "metadata": {
    "colab": {
     "base_uri": "https://localhost:8080/"
    },
    "id": "d4c665d9",
    "outputId": "148451f0-57bf-4044-efdb-41e481362212"
   },
   "outputs": [
    {
     "name": "stdout",
     "output_type": "stream",
     "text": [
      "|--- worst perimeter <= 114.45\n",
      "|   |--- worst concave points <= 0.16\n",
      "|   |   |--- area error <= 33.00\n",
      "|   |   |   |--- worst concave points <= 0.13\n",
      "|   |   |   |   |--- worst texture <= 33.27\n",
      "|   |   |   |   |   |--- class: 1\n",
      "|   |   |   |   |--- worst texture >  33.27\n",
      "|   |   |   |   |   |--- worst texture <= 33.56\n",
      "|   |   |   |   |   |   |--- class: 0\n",
      "|   |   |   |   |   |--- worst texture >  33.56\n",
      "|   |   |   |   |   |   |--- class: 1\n",
      "|   |   |   |--- worst concave points >  0.13\n",
      "|   |   |   |   |--- worst texture <= 29.06\n",
      "|   |   |   |   |   |--- concave points error <= 0.01\n",
      "|   |   |   |   |   |   |--- mean smoothness <= 0.10\n",
      "|   |   |   |   |   |   |   |--- class: 0\n",
      "|   |   |   |   |   |   |--- mean smoothness >  0.10\n",
      "|   |   |   |   |   |   |   |--- class: 1\n",
      "|   |   |   |   |   |--- concave points error >  0.01\n",
      "|   |   |   |   |   |   |--- class: 1\n",
      "|   |   |   |   |--- worst texture >  29.06\n",
      "|   |   |   |   |   |--- class: 0\n",
      "|   |   |--- area error >  33.00\n",
      "|   |   |   |--- worst texture <= 27.34\n",
      "|   |   |   |   |--- mean area <= 694.15\n",
      "|   |   |   |   |   |--- worst smoothness <= 0.15\n",
      "|   |   |   |   |   |   |--- compactness error <= 0.01\n",
      "|   |   |   |   |   |   |   |--- worst concave points <= 0.05\n",
      "|   |   |   |   |   |   |   |   |--- class: 1\n",
      "|   |   |   |   |   |   |   |--- worst concave points >  0.05\n",
      "|   |   |   |   |   |   |   |   |--- class: 0\n",
      "|   |   |   |   |   |   |--- compactness error >  0.01\n",
      "|   |   |   |   |   |   |   |--- class: 1\n",
      "|   |   |   |   |   |--- worst smoothness >  0.15\n",
      "|   |   |   |   |   |   |--- class: 0\n",
      "|   |   |   |   |--- mean area >  694.15\n",
      "|   |   |   |   |   |--- class: 0\n",
      "|   |   |   |--- worst texture >  27.34\n",
      "|   |   |   |   |--- worst radius <= 14.62\n",
      "|   |   |   |   |   |--- class: 1\n",
      "|   |   |   |   |--- worst radius >  14.62\n",
      "|   |   |   |   |   |--- class: 0\n",
      "|   |--- worst concave points >  0.16\n",
      "|   |   |--- worst texture <= 23.47\n",
      "|   |   |   |--- symmetry error <= 0.02\n",
      "|   |   |   |   |--- class: 0\n",
      "|   |   |   |--- symmetry error >  0.02\n",
      "|   |   |   |   |--- class: 1\n",
      "|   |   |--- worst texture >  23.47\n",
      "|   |   |   |--- class: 0\n",
      "|--- worst perimeter >  114.45\n",
      "|   |--- perimeter error <= 1.75\n",
      "|   |   |--- class: 1\n",
      "|   |--- perimeter error >  1.75\n",
      "|   |   |--- worst concavity <= 0.18\n",
      "|   |   |   |--- mean concave points <= 0.04\n",
      "|   |   |   |   |--- class: 0\n",
      "|   |   |   |--- mean concave points >  0.04\n",
      "|   |   |   |   |--- class: 1\n",
      "|   |   |--- worst concavity >  0.18\n",
      "|   |   |   |--- class: 0\n",
      "\n"
     ]
    }
   ],
   "source": [
    "# Export DecicisionTreeClassifier as Text (Breast Cancer)\n",
    "print(tree.export_text(clf_dtc_bc, feature_names = data_bc.feature_names.tolist()))"
   ]
  },
  {
   "cell_type": "code",
   "execution_count": 9,
   "id": "1c9715cf",
   "metadata": {
    "id": "1c9715cf"
   },
   "outputs": [],
   "source": [
    "# Predicting using DecisionTreeClassifer for Breast Cancer\n",
    "y_pred_dtc_bc = clf_dtc_bc.predict(x_test)"
   ]
  },
  {
   "cell_type": "code",
   "execution_count": 10,
   "id": "3082c514",
   "metadata": {
    "colab": {
     "base_uri": "https://localhost:8080/"
    },
    "id": "3082c514",
    "outputId": "b216d100-23ad-4a35-dfdc-8a77eecd7a19"
   },
   "outputs": [
    {
     "name": "stdout",
     "output_type": "stream",
     "text": [
      "Accuracy Score DecisionTreeClassifier (Dataset Breast Cancer) = 0.9298245614035088\n"
     ]
    }
   ],
   "source": [
    "# Scoring DecisionTreeClassifier for Breast Cancer (Accuracy)\n",
    "acc_dtc_bc = accuracy_score(y_true, y_pred_dtc_bc)\n",
    "print(\"Accuracy Score DecisionTreeClassifier (Dataset Breast Cancer) =\", acc_dtc_bc)"
   ]
  },
  {
   "cell_type": "code",
   "execution_count": 11,
   "id": "20d43f02",
   "metadata": {
    "colab": {
     "base_uri": "https://localhost:8080/"
    },
    "id": "20d43f02",
    "outputId": "7e50f3dc-8621-4bea-f1f5-cfe9b5b4be39"
   },
   "outputs": [
    {
     "name": "stdout",
     "output_type": "stream",
     "text": [
      "F1 Score DecisionTreeClassifier (Dataset Breast Cancer) = 0.9420289855072465\n"
     ]
    }
   ],
   "source": [
    "# Scoring DecisionTreeClassifier for Breat Cancer (F1)\n",
    "f1_dtc_bc = f1_score(y_true, y_pred_dtc_bc, pos_label = 1)\n",
    "print(\"F1 Score DecisionTreeClassifier (Dataset Breast Cancer) =\", f1_dtc_bc)"
   ]
  },
  {
   "cell_type": "markdown",
   "id": "P_Q_IRM7cciO",
   "metadata": {
    "id": "P_Q_IRM7cciO"
   },
   "source": [
    "### Play-Tennis Dataset"
   ]
  },
  {
   "cell_type": "code",
   "execution_count": 12,
   "id": "BVHLyq3ced4S",
   "metadata": {
    "colab": {
     "base_uri": "https://localhost:8080/"
    },
    "id": "BVHLyq3ced4S",
    "outputId": "3b4cd1c4-4df0-491a-8a04-78eecd831deb"
   },
   "outputs": [
    {
     "name": "stdout",
     "output_type": "stream",
     "text": [
      "Parameters for DecisionTreeClassifier model Dataset Play-Tennis:\n",
      "ccp_alpha: 0.0\n",
      "class_weight: None\n",
      "criterion: gini\n",
      "max_depth: None\n",
      "max_features: None\n",
      "max_leaf_nodes: None\n",
      "min_impurity_decrease: 0.0\n",
      "min_impurity_split: None\n",
      "min_samples_leaf: 1\n",
      "min_samples_split: 2\n",
      "min_weight_fraction_leaf: 0.0\n",
      "random_state: None\n",
      "splitter: best\n"
     ]
    }
   ],
   "source": [
    "# DecisionTreeClassifier (Play-Tennis)\n",
    "clf_dtc_pt = sklearn.tree.DecisionTreeClassifier().fit(x_train_pt, y_train_pt)\n",
    "show_param(clf_dtc_pt, \"Parameters for DecisionTreeClassifier model Dataset Play-Tennis:\")"
   ]
  },
  {
   "cell_type": "code",
   "execution_count": 13,
   "id": "M5vbZXuEk-xj",
   "metadata": {
    "colab": {
     "base_uri": "https://localhost:8080/"
    },
    "id": "M5vbZXuEk-xj",
    "outputId": "0beac8c0-6b50-443a-818c-937c036b580f"
   },
   "outputs": [
    {
     "name": "stdout",
     "output_type": "stream",
     "text": [
      "|--- Outlook <= 0.50\n",
      "|   |--- class: 1\n",
      "|--- Outlook >  0.50\n",
      "|   |--- Humidity <= 0.50\n",
      "|   |   |--- class: 0\n",
      "|   |--- Humidity >  0.50\n",
      "|   |   |--- Wind <= 0.50\n",
      "|   |   |   |--- Temperature <= 1.00\n",
      "|   |   |   |   |--- class: 0\n",
      "|   |   |   |--- Temperature >  1.00\n",
      "|   |   |   |   |--- class: 1\n",
      "|   |   |--- Wind >  0.50\n",
      "|   |   |   |--- class: 1\n",
      "\n"
     ]
    }
   ],
   "source": [
    "# Export DecicisionTreeClassifier as Text (Play-Tennis)\n",
    "print(tree.export_text(clf_dtc_pt, feature_names = data_pt.columns.values[:-1].tolist()))"
   ]
  },
  {
   "cell_type": "code",
   "execution_count": 14,
   "id": "_9zbiqERlmlW",
   "metadata": {
    "id": "_9zbiqERlmlW"
   },
   "outputs": [],
   "source": [
    "# Predicting using DecisionTreeClassifer for Play-Tennis\n",
    "y_pred_dtc_pt = clf_dtc_pt.predict(x_test_pt)"
   ]
  },
  {
   "cell_type": "code",
   "execution_count": 15,
   "id": "Fek3Xn5yl3Kt",
   "metadata": {
    "colab": {
     "base_uri": "https://localhost:8080/"
    },
    "id": "Fek3Xn5yl3Kt",
    "outputId": "8d137eda-2c2f-4b6a-cf32-50e6a808e539"
   },
   "outputs": [
    {
     "name": "stdout",
     "output_type": "stream",
     "text": [
      "Accuracy Score DecisionTreeClassifier (Dataset Play-Tennis) = 0.6666666666666666\n"
     ]
    }
   ],
   "source": [
    "# Scoring DecisionTreeClassifier for Play-Tennis (Accuracy)\n",
    "acc_dtc_pt = accuracy_score(y_true_pt, y_pred_dtc_pt)\n",
    "print(\"Accuracy Score DecisionTreeClassifier (Dataset Play-Tennis) =\", acc_dtc_pt)"
   ]
  },
  {
   "cell_type": "code",
   "execution_count": 16,
   "id": "ETFVilAdmFy0",
   "metadata": {
    "colab": {
     "base_uri": "https://localhost:8080/"
    },
    "id": "ETFVilAdmFy0",
    "outputId": "47c30008-c83e-4b1e-af7c-12f7d751b303"
   },
   "outputs": [
    {
     "name": "stdout",
     "output_type": "stream",
     "text": [
      "F1 Score DecisionTreeClassifier (Dataset Play-Tennis) = 0.6666666666666666\n"
     ]
    }
   ],
   "source": [
    "# Scoring DecisionTreeClassifier for Play-Tennis (F1)\n",
    "f1_dtc_pt = f1_score(y_true_pt, y_pred_dtc_pt, pos_label = 1)\n",
    "print(\"F1 Score DecisionTreeClassifier (Dataset Play-Tennis) =\", f1_dtc_pt)"
   ]
  },
  {
   "cell_type": "markdown",
   "id": "DXQ29AdFYtp5",
   "metadata": {
    "id": "DXQ29AdFYtp5"
   },
   "source": [
    "## Soal 2b & 3b - Pembelajaran, Prediksi, dan Evaluasi dengan Algoritma Id3Estimator"
   ]
  },
  {
   "cell_type": "markdown",
   "id": "z6I1dr08geUh",
   "metadata": {
    "id": "z6I1dr08geUh"
   },
   "source": [
    "### Breast Cancer Dataset"
   ]
  },
  {
   "cell_type": "code",
   "execution_count": 17,
   "id": "e409b271",
   "metadata": {
    "colab": {
     "base_uri": "https://localhost:8080/"
    },
    "id": "e409b271",
    "outputId": "626f7b0a-66b8-499a-f8ec-c6f9f6c47dc8"
   },
   "outputs": [
    {
     "name": "stdout",
     "output_type": "stream",
     "text": [
      "Parameters for Id3Estimator model Dataset Breast Cancer:\n",
      "gain_ratio: False\n",
      "is_repeating: False\n",
      "max_depth: None\n",
      "min_entropy_decrease: 0.0\n",
      "min_samples_split: 2\n",
      "prune: False\n"
     ]
    }
   ],
   "source": [
    "# Id3Estimator (Breast Cancer)\n",
    "estimator = Id3Estimator().fit(x_train, y_train)\n",
    "show_param(estimator, \"Parameters for Id3Estimator model Dataset Breast Cancer:\")"
   ]
  },
  {
   "cell_type": "code",
   "execution_count": 18,
   "id": "kLPN6t1V4nDT",
   "metadata": {
    "colab": {
     "base_uri": "https://localhost:8080/"
    },
    "id": "kLPN6t1V4nDT",
    "outputId": "00a33ac7-eada-4598-fd32-bb4c839c8c60"
   },
   "outputs": [
    {
     "name": "stdout",
     "output_type": "stream",
     "text": [
      "\n",
      "worst perimeter <=117.45\n",
      "|   worst concave points <=0.11\n",
      "|   |   area error <=45.17\n",
      "|   |   |   worst texture <=33.35: 1 (229) \n",
      "|   |   |   worst texture >33.35\n",
      "|   |   |   |   mean texture <=23.84\n",
      "|   |   |   |   |   mean radius <=12.07: 1 (1) \n",
      "|   |   |   |   |   mean radius >12.07: 0 (1) \n",
      "|   |   |   |   mean texture >23.84: 1 (15) \n",
      "|   |   area error >45.17\n",
      "|   |   |   worst texture <=22.76: 1 (4) \n",
      "|   |   |   worst texture >22.76: 0 (4) \n",
      "|   worst concave points >0.11\n",
      "|   |   worst texture <=25.83\n",
      "|   |   |   mean smoothness <=0.13\n",
      "|   |   |   |   worst area <=810.30: 1 (21) \n",
      "|   |   |   |   worst area >810.30\n",
      "|   |   |   |   |   mean radius <=14.19: 0 (2) \n",
      "|   |   |   |   |   mean radius >14.19: 1 (8) \n",
      "|   |   |   mean smoothness >0.13: 0 (2) \n",
      "|   |   worst texture >25.83\n",
      "|   |   |   mean concave points <=0.04\n",
      "|   |   |   |   mean compactness <=0.09: 0 (2) \n",
      "|   |   |   |   mean compactness >0.09: 1 (9) \n",
      "|   |   |   mean concave points >0.04\n",
      "|   |   |   |   mean concavity <=0.09\n",
      "|   |   |   |   |   mean symmetry <=0.18: 0 (3) \n",
      "|   |   |   |   |   mean symmetry >0.18: 1 (2) \n",
      "|   |   |   |   mean concavity >0.09: 0 (22) \n",
      "worst perimeter >117.45: 0 (130) \n",
      "\n"
     ]
    }
   ],
   "source": [
    "# Export as Text Id3Estimator (Breast Cancer)\n",
    "print(id3.export_text(estimator.tree_, data_bc.feature_names.tolist()))"
   ]
  },
  {
   "cell_type": "code",
   "execution_count": 19,
   "id": "Mzi8OCpfjC2w",
   "metadata": {
    "id": "Mzi8OCpfjC2w"
   },
   "outputs": [],
   "source": [
    "# Predicting using Id3Estimator for Breast Cancer\n",
    "y_pred_id3_bc = estimator.predict(x_test)"
   ]
  },
  {
   "cell_type": "code",
   "execution_count": 20,
   "id": "xDmjn0njjaIR",
   "metadata": {
    "colab": {
     "base_uri": "https://localhost:8080/"
    },
    "id": "xDmjn0njjaIR",
    "outputId": "69ae4d75-12e2-43f1-ca81-c7c119967e87"
   },
   "outputs": [
    {
     "name": "stdout",
     "output_type": "stream",
     "text": [
      "Accuracy Score Id3Estimator (Dataset Breast Cancer) = 0.9210526315789473\n"
     ]
    }
   ],
   "source": [
    "# Scoring Id3Estimator for Breast Cancer (Accuracy)\n",
    "acc_id3_bc = accuracy_score(y_true, y_pred_id3_bc)\n",
    "print(\"Accuracy Score Id3Estimator (Dataset Breast Cancer) =\", acc_id3_bc)"
   ]
  },
  {
   "cell_type": "code",
   "execution_count": 21,
   "id": "6VPuwcpGjk0L",
   "metadata": {
    "colab": {
     "base_uri": "https://localhost:8080/"
    },
    "id": "6VPuwcpGjk0L",
    "outputId": "ca928307-b25b-4b66-f3ce-706d7e7fee5d"
   },
   "outputs": [
    {
     "name": "stdout",
     "output_type": "stream",
     "text": [
      "F1 Score Id3Estimator (Dataset Breast Cancer) = 0.9323308270676691\n"
     ]
    }
   ],
   "source": [
    "# Scoring Id3Estimator for Breast Cancer (F1)\n",
    "f1_id3_bc = f1_score(y_true, y_pred_id3_bc, pos_label = 1)\n",
    "print(\"F1 Score Id3Estimator (Dataset Breast Cancer) =\", f1_id3_bc)"
   ]
  },
  {
   "cell_type": "markdown",
   "id": "VxjYter-gfaB",
   "metadata": {
    "id": "VxjYter-gfaB"
   },
   "source": [
    "### Play-Tennis Dataset"
   ]
  },
  {
   "cell_type": "code",
   "execution_count": 22,
   "id": "7O5dkU1zofri",
   "metadata": {
    "colab": {
     "base_uri": "https://localhost:8080/"
    },
    "id": "7O5dkU1zofri",
    "outputId": "21fb9a25-6f25-4717-f96d-f06841694d95"
   },
   "outputs": [
    {
     "name": "stdout",
     "output_type": "stream",
     "text": [
      "Parameters for Id3Estimator model Dataset Play Tennis:\n",
      "gain_ratio: False\n",
      "is_repeating: False\n",
      "max_depth: None\n",
      "min_entropy_decrease: 0.0\n",
      "min_samples_split: 2\n",
      "prune: False\n"
     ]
    }
   ],
   "source": [
    "# Id3Estimator (Play Tennis)\n",
    "pt_estimator = Id3Estimator().fit(x_train_pt,y_train_pt)\n",
    "show_param(pt_estimator, \"Parameters for Id3Estimator model Dataset Play Tennis:\")"
   ]
  },
  {
   "cell_type": "code",
   "execution_count": 23,
   "id": "obmSvuPOogC1",
   "metadata": {
    "colab": {
     "base_uri": "https://localhost:8080/"
    },
    "id": "obmSvuPOogC1",
    "outputId": "e22c0056-88ca-4601-920d-48ee43994333"
   },
   "outputs": [
    {
     "name": "stdout",
     "output_type": "stream",
     "text": [
      "\n",
      "Outlook <=0.50: 1 (3) \n",
      "Outlook >0.50\n",
      "|   Humidity <=0.50: 0 (3) \n",
      "|   Humidity >0.50\n",
      "|   |   Wind <=0.50\n",
      "|   |   |   Temperature <=1.00: 0 (1) \n",
      "|   |   |   Temperature >1.00: 1 (1) \n",
      "|   |   Wind >0.50: 1 (3) \n",
      "\n"
     ]
    }
   ],
   "source": [
    "# Export as Text Id3Estimator (Play Tennis)\n",
    "print(id3.export_text(pt_estimator.tree_, data_pt.columns.values[:-1].tolist()))"
   ]
  },
  {
   "cell_type": "code",
   "execution_count": 24,
   "id": "KdW9tUrhogSj",
   "metadata": {
    "id": "KdW9tUrhogSj"
   },
   "outputs": [],
   "source": [
    "# Predicting using Id3Estimator for Play Tennis\n",
    "y_pred_id3_pt = pt_estimator.predict(x_test_pt)"
   ]
  },
  {
   "cell_type": "code",
   "execution_count": 25,
   "id": "FK5r9wF3olcl",
   "metadata": {
    "colab": {
     "base_uri": "https://localhost:8080/"
    },
    "id": "FK5r9wF3olcl",
    "outputId": "2aa18884-0229-4b16-a285-f400138b5d4c"
   },
   "outputs": [
    {
     "name": "stdout",
     "output_type": "stream",
     "text": [
      "Accuracy Score Id3Estimator (Dataset Play Tennis) = 0.6666666666666666\n"
     ]
    }
   ],
   "source": [
    "# Scoring Id3Estimator for Play Tennis (Accuracy)\n",
    "acc_id3_pt = accuracy_score(y_true_pt, y_pred_id3_pt)\n",
    "print(\"Accuracy Score Id3Estimator (Dataset Play Tennis) =\", acc_id3_pt)"
   ]
  },
  {
   "cell_type": "code",
   "execution_count": 26,
   "id": "ixGBRGhGolt7",
   "metadata": {
    "colab": {
     "base_uri": "https://localhost:8080/"
    },
    "id": "ixGBRGhGolt7",
    "outputId": "4e9118a4-8eaf-45a8-ebb9-a061cc5bb0db"
   },
   "outputs": [
    {
     "name": "stdout",
     "output_type": "stream",
     "text": [
      "F1 Score Id3Estimator (Dataset Play Tennis) = 0.6666666666666666\n"
     ]
    }
   ],
   "source": [
    "# Scoring Id3Estimator for Play Tennis (F1)\n",
    "f1_id3_pt = f1_score(y_true_pt, y_pred_id3_pt, pos_label = 1)\n",
    "print(\"F1 Score Id3Estimator (Dataset Play Tennis) =\", f1_id3_pt)"
   ]
  },
  {
   "cell_type": "markdown",
   "id": "mI7A6zToZDQu",
   "metadata": {
    "id": "mI7A6zToZDQu"
   },
   "source": [
    "## Soal 2c & 3c - Pembelajaran, Prediksi, dan Evaluasi dengan Algoritma K Means"
   ]
  },
  {
   "cell_type": "markdown",
   "id": "6m93DoJpow2b",
   "metadata": {
    "id": "6m93DoJpow2b"
   },
   "source": [
    "### Breast Cancer Dataset"
   ]
  },
  {
   "cell_type": "code",
   "execution_count": 27,
   "id": "yFLJ-_DI4Inz",
   "metadata": {
    "colab": {
     "base_uri": "https://localhost:8080/"
    },
    "id": "yFLJ-_DI4Inz",
    "outputId": "8f0124a8-0a08-43f5-bb5b-d5218bc3dd70"
   },
   "outputs": [
    {
     "name": "stdout",
     "output_type": "stream",
     "text": [
      "Parameters for KMeans model Dataset Breast Cancer:\n",
      "algorithm: auto\n",
      "copy_x: True\n",
      "init: k-means++\n",
      "max_iter: 600\n",
      "n_clusters: 2\n",
      "n_init: 15\n",
      "n_jobs: deprecated\n",
      "precompute_distances: deprecated\n",
      "random_state: None\n",
      "tol: 0.0001\n",
      "verbose: 0\n"
     ]
    }
   ],
   "source": [
    "# KMeans (Breast Cancer) {Showing parameters}\n",
    "kmeans = KMeans(n_clusters = 2, n_init = 15, max_iter = 600).fit(x_train)\n",
    "show_param(kmeans, \"Parameters for KMeans model Dataset Breast Cancer:\")"
   ]
  },
  {
   "cell_type": "code",
   "execution_count": 28,
   "id": "K1qeJ5b6vBqf",
   "metadata": {
    "colab": {
     "base_uri": "https://localhost:8080/"
    },
    "id": "K1qeJ5b6vBqf",
    "outputId": "d0b934e5-e789-4da8-efa2-0b7741082439"
   },
   "outputs": [
    {
     "data": {
      "text/plain": [
       "array([[1.90807000e+01, 2.19466000e+01, 1.26249000e+02, 1.14803500e+03,\n",
       "        1.02059900e-01, 1.48691500e-01, 1.74846500e-01, 9.95550000e-02,\n",
       "        1.93514000e-01, 6.08909000e-02, 7.22024000e-01, 1.21749900e+00,\n",
       "        5.05981000e+00, 9.13457000e+01, 6.65091000e-03, 3.19766000e-02,\n",
       "        4.20957000e-02, 1.55785100e-02, 1.99333000e-02, 3.96172000e-03,\n",
       "        2.34274000e+01, 2.93130000e+01, 1.56562000e+02, 1.71322000e+03,\n",
       "        1.41873200e-01, 3.58207000e-01, 4.51690000e-01, 1.92432600e-01,\n",
       "        3.14465000e-01, 8.71631000e-02],\n",
       "       [1.25132648e+01, 1.84550423e+01, 8.08738592e+01, 4.92789014e+02,\n",
       "        9.51919155e-02, 9.24783944e-02, 6.39625344e-02, 3.39360225e-02,\n",
       "        1.78788732e-01, 6.37034648e-02, 3.07884789e-01, 1.21394113e+00,\n",
       "        2.17172310e+00, 2.40197296e+01, 7.26076620e-03, 2.38344056e-02,\n",
       "        2.91559200e-02, 1.06871775e-02, 2.07097972e-02, 3.81023521e-03,\n",
       "        1.39989944e+01, 2.45205070e+01, 9.16678873e+01, 6.15860000e+02,\n",
       "        1.30720225e-01, 2.26149014e-01, 2.21382189e-01, 9.17929606e-02,\n",
       "        2.83554366e-01, 8.37988732e-02]])"
      ]
     },
     "execution_count": 28,
     "metadata": {},
     "output_type": "execute_result"
    }
   ],
   "source": [
    "# Showing Cluster center coordinates (Koordinat pusat centroid) for Breast Cancer\n",
    "kmeans.cluster_centers_"
   ]
  },
  {
   "cell_type": "code",
   "execution_count": 29,
   "id": "zwcj-wCAhntg",
   "metadata": {
    "id": "zwcj-wCAhntg"
   },
   "outputs": [],
   "source": [
    "# Predicting using K Means for Breast Cancer\n",
    "y_pred_km_bc = kmeans.predict(x_test)"
   ]
  },
  {
   "cell_type": "code",
   "execution_count": 30,
   "id": "PoFQlk0jFywX",
   "metadata": {
    "colab": {
     "base_uri": "https://localhost:8080/"
    },
    "id": "PoFQlk0jFywX",
    "outputId": "a5cc0282-546b-44e2-b847-0471cccb77e8"
   },
   "outputs": [
    {
     "name": "stdout",
     "output_type": "stream",
     "text": [
      "Accuracy Score K Means (Dataset Breast Cancer) = 0.868421052631579\n"
     ]
    }
   ],
   "source": [
    "# Scoring KMeans for Breast Cancer (Accuracy)\n",
    "acc_km_bc = accuracy_score(y_true, y_pred_km_bc)\n",
    "print(\"Accuracy Score K Means (Dataset Breast Cancer) =\", acc_km_bc)"
   ]
  },
  {
   "cell_type": "code",
   "execution_count": 31,
   "id": "hwKEsnTaHGgO",
   "metadata": {
    "colab": {
     "base_uri": "https://localhost:8080/"
    },
    "id": "hwKEsnTaHGgO",
    "outputId": "16426ced-d5f7-4739-d16e-2caa6b3121d2"
   },
   "outputs": [
    {
     "name": "stdout",
     "output_type": "stream",
     "text": [
      "F1 Score K Means (Dataset Breast Cancer) = 0.8993288590604026\n"
     ]
    }
   ],
   "source": [
    "# Scoring KMeans for Breast Cancer (F1)\n",
    "f1_km_bc = f1_score(y_true, y_pred_km_bc, pos_label = 1)\n",
    "print(\"F1 Score K Means (Dataset Breast Cancer) =\", f1_km_bc)"
   ]
  },
  {
   "cell_type": "markdown",
   "id": "2P8UFf0Uouvo",
   "metadata": {
    "id": "2P8UFf0Uouvo"
   },
   "source": [
    "### Play-Tennis Dataset"
   ]
  },
  {
   "cell_type": "code",
   "execution_count": 32,
   "id": "eSTYvzn7o0r-",
   "metadata": {
    "colab": {
     "base_uri": "https://localhost:8080/"
    },
    "id": "eSTYvzn7o0r-",
    "outputId": "1c5ebc96-dd1b-4755-875c-5bb46ffcdfd8"
   },
   "outputs": [
    {
     "name": "stdout",
     "output_type": "stream",
     "text": [
      "Parameters for KMeans model Dataset Play Tennis:\n",
      "algorithm: auto\n",
      "copy_x: True\n",
      "init: k-means++\n",
      "max_iter: 300\n",
      "n_clusters: 2\n",
      "n_init: 10\n",
      "n_jobs: deprecated\n",
      "precompute_distances: deprecated\n",
      "random_state: None\n",
      "tol: 0.0001\n",
      "verbose: 0\n"
     ]
    }
   ],
   "source": [
    "# KMeans (Play Tennis)\n",
    "pt_kmeans = KMeans(n_clusters = 2).fit(x_train_pt)\n",
    "show_param(pt_kmeans, \"Parameters for KMeans model Dataset Play Tennis:\")"
   ]
  },
  {
   "cell_type": "code",
   "execution_count": 33,
   "id": "TcnsABVYQUQR",
   "metadata": {
    "colab": {
     "base_uri": "https://localhost:8080/"
    },
    "id": "TcnsABVYQUQR",
    "outputId": "e1336b73-dbf0-4d47-f937-12b1fc687434"
   },
   "outputs": [
    {
     "data": {
      "text/plain": [
       "array([[1.66666667, 0.66666667, 0.66666667, 0.5       ],\n",
       "       [0.4       , 1.6       , 0.4       , 0.6       ]])"
      ]
     },
     "execution_count": 33,
     "metadata": {},
     "output_type": "execute_result"
    }
   ],
   "source": [
    "# Showing Cluster center coordinates (Koordinat pusat centroid) for Play Tennis\n",
    "pt_kmeans.cluster_centers_"
   ]
  },
  {
   "cell_type": "code",
   "execution_count": 34,
   "id": "9MdYlqrho0-n",
   "metadata": {
    "id": "9MdYlqrho0-n"
   },
   "outputs": [],
   "source": [
    "# Predicting using K Means for Play Tennis\n",
    "y_pred_km_pt = pt_kmeans.predict(x_test_pt)"
   ]
  },
  {
   "cell_type": "code",
   "execution_count": 35,
   "id": "BkC9tr0ao1KS",
   "metadata": {
    "colab": {
     "base_uri": "https://localhost:8080/"
    },
    "id": "BkC9tr0ao1KS",
    "outputId": "d6d676a9-d205-450a-f197-65b501c0fcb5"
   },
   "outputs": [
    {
     "name": "stdout",
     "output_type": "stream",
     "text": [
      "Accuracy Score K Means (Dataset Play Tennis) = 1.0\n"
     ]
    }
   ],
   "source": [
    "# Scoring KMeans for Play Tennis (Accuracy)\n",
    "acc_km_pt = accuracy_score(y_true_pt, y_pred_km_pt)\n",
    "print(\"Accuracy Score K Means (Dataset Play Tennis) =\", acc_km_pt)"
   ]
  },
  {
   "cell_type": "code",
   "execution_count": 36,
   "id": "8xZczqTOo1XN",
   "metadata": {
    "colab": {
     "base_uri": "https://localhost:8080/"
    },
    "id": "8xZczqTOo1XN",
    "outputId": "fbf8c036-3f9e-4e71-ae58-9d864330d5db"
   },
   "outputs": [
    {
     "name": "stdout",
     "output_type": "stream",
     "text": [
      "F1 Score K Means (Dataset Play Tennis) = 1.0\n"
     ]
    }
   ],
   "source": [
    "# Scoring KMeans for Play Tennis (F1)\n",
    "f1_km_pt = f1_score(y_true_pt, y_pred_km_pt, pos_label = 1)\n",
    "print(\"F1 Score K Means (Dataset Play Tennis) =\", f1_km_pt)"
   ]
  },
  {
   "cell_type": "markdown",
   "id": "zIrRrEfCZXVs",
   "metadata": {
    "id": "zIrRrEfCZXVs"
   },
   "source": [
    "## Soal 2d & 3d - Pembelajaran, Prediksi, dan Evaluasi dengan Algoritma LogisticRegression"
   ]
  },
  {
   "cell_type": "markdown",
   "id": "V4H801E_pAqE",
   "metadata": {
    "id": "V4H801E_pAqE"
   },
   "source": [
    "### Breast Cancer Dataset"
   ]
  },
  {
   "cell_type": "code",
   "execution_count": 37,
   "id": "adufCeg3HiJf",
   "metadata": {
    "colab": {
     "base_uri": "https://localhost:8080/"
    },
    "id": "adufCeg3HiJf",
    "outputId": "57f5a868-2b57-4598-d93f-1098f0229e06"
   },
   "outputs": [
    {
     "name": "stdout",
     "output_type": "stream",
     "text": [
      "Parameters for LogisticRegression model Dataset Breast Cancer:\n",
      "C: 1.0\n",
      "class_weight: None\n",
      "dual: False\n",
      "fit_intercept: True\n",
      "intercept_scaling: 1\n",
      "l1_ratio: None\n",
      "max_iter: 1000\n",
      "multi_class: auto\n",
      "n_jobs: None\n",
      "penalty: l2\n",
      "random_state: None\n",
      "solver: lbfgs\n",
      "tol: 0.0001\n",
      "verbose: 0\n",
      "warm_start: False\n"
     ]
    },
    {
     "name": "stderr",
     "output_type": "stream",
     "text": [
      "C:\\Users\\Noler\\anaconda3\\lib\\site-packages\\sklearn\\linear_model\\_logistic.py:763: ConvergenceWarning: lbfgs failed to converge (status=1):\n",
      "STOP: TOTAL NO. of ITERATIONS REACHED LIMIT.\n",
      "\n",
      "Increase the number of iterations (max_iter) or scale the data as shown in:\n",
      "    https://scikit-learn.org/stable/modules/preprocessing.html\n",
      "Please also refer to the documentation for alternative solver options:\n",
      "    https://scikit-learn.org/stable/modules/linear_model.html#logistic-regression\n",
      "  n_iter_i = _check_optimize_result(\n"
     ]
    }
   ],
   "source": [
    "# LogisticRegression (Breast Cancer)\n",
    "clf_lr_bc = LogisticRegression(max_iter = 1000).fit(x_train, y_train)\n",
    "show_param(clf_lr_bc, \"Parameters for LogisticRegression model Dataset Breast Cancer:\")"
   ]
  },
  {
   "cell_type": "code",
   "execution_count": 38,
   "id": "Qi_JJFIURRlD",
   "metadata": {
    "colab": {
     "base_uri": "https://localhost:8080/"
    },
    "id": "Qi_JJFIURRlD",
    "outputId": "29c5153e-b3ab-46d5-c1e5-0f5805e46df5"
   },
   "outputs": [
    {
     "name": "stdout",
     "output_type": "stream",
     "text": [
      "[[ 1.57706927e+00  2.65894460e-01  1.50246140e-01 -1.28532970e-02\n",
      "  -2.45862619e-01 -2.07516083e-01 -5.64412323e-01 -4.44045172e-01\n",
      "  -3.03340951e-01  1.18334755e-02 -1.42877090e-04  3.73413688e-01\n",
      "   4.28529674e-01 -1.36182196e-01 -1.34537737e-02  2.80334807e-01\n",
      "   2.36596482e-01 -2.86860392e-02  1.71718592e-03  5.09703445e-02\n",
      "   1.01213980e+00 -4.01148687e-01 -3.29487406e-01 -9.11919909e-03\n",
      "  -4.69237311e-01 -4.58748610e-01 -1.35089490e+00 -8.97039445e-01\n",
      "  -8.23448246e-01 -5.94355600e-02]] [7.58046412]\n"
     ]
    }
   ],
   "source": [
    "# Showing Coefficient and Bias from Logistic Regression in Decision Function for Breast Cancer\n",
    "print(clf_lr_bc.coef_,clf_lr_bc.intercept_)"
   ]
  },
  {
   "cell_type": "code",
   "execution_count": 39,
   "id": "qXl_IkZCj7vI",
   "metadata": {
    "id": "qXl_IkZCj7vI"
   },
   "outputs": [],
   "source": [
    "# Predicting using LogisticRegression for Breast Cancer\n",
    "y_pred_lr_bc = clf_lr_bc.predict(x_test)"
   ]
  },
  {
   "cell_type": "code",
   "execution_count": 40,
   "id": "6ahvRoXKIyLb",
   "metadata": {
    "colab": {
     "base_uri": "https://localhost:8080/"
    },
    "id": "6ahvRoXKIyLb",
    "outputId": "34ee97c5-38da-4470-df51-f4a955562e1d"
   },
   "outputs": [
    {
     "name": "stdout",
     "output_type": "stream",
     "text": [
      "Accuracy Score LogisticRegression (Dataset Breast Cancer) = 0.9473684210526315\n"
     ]
    }
   ],
   "source": [
    "# Scoring LogisticRegression for Breast Cancer (Accuracy)\n",
    "acc_lr_bc = accuracy_score(y_true, y_pred_lr_bc)\n",
    "print(\"Accuracy Score LogisticRegression (Dataset Breast Cancer) =\", acc_lr_bc)"
   ]
  },
  {
   "cell_type": "code",
   "execution_count": 41,
   "id": "CZF-5lA_I7D2",
   "metadata": {
    "colab": {
     "base_uri": "https://localhost:8080/"
    },
    "id": "CZF-5lA_I7D2",
    "outputId": "83566fee-6e49-4ee1-fd94-e15aa5999543"
   },
   "outputs": [
    {
     "name": "stdout",
     "output_type": "stream",
     "text": [
      "F1 Score LogisticRegression (Dataset Breast Cancer) = 0.9558823529411765\n"
     ]
    }
   ],
   "source": [
    "# Scoring LogisticRegression for Breast Cancer (F1)\n",
    "f1_lr_bc = f1_score(y_true, y_pred_lr_bc)\n",
    "print(\"F1 Score LogisticRegression (Dataset Breast Cancer) =\", f1_lr_bc)"
   ]
  },
  {
   "cell_type": "markdown",
   "id": "RM_E_Pd7pMVk",
   "metadata": {
    "id": "RM_E_Pd7pMVk"
   },
   "source": [
    "### Play-Tennis Dataset"
   ]
  },
  {
   "cell_type": "code",
   "execution_count": 42,
   "id": "RwQ4mhJjpO5M",
   "metadata": {
    "colab": {
     "base_uri": "https://localhost:8080/"
    },
    "id": "RwQ4mhJjpO5M",
    "outputId": "6a06c461-87f0-4158-abe7-31955c9527dd"
   },
   "outputs": [
    {
     "name": "stdout",
     "output_type": "stream",
     "text": [
      "Parameters for LogisticRegression model Dataset Play Tennis:\n",
      "C: 1.0\n",
      "class_weight: None\n",
      "dual: False\n",
      "fit_intercept: True\n",
      "intercept_scaling: 1\n",
      "l1_ratio: None\n",
      "max_iter: 100\n",
      "multi_class: auto\n",
      "n_jobs: None\n",
      "penalty: l2\n",
      "random_state: None\n",
      "solver: lbfgs\n",
      "tol: 0.0001\n",
      "verbose: 0\n",
      "warm_start: False\n"
     ]
    }
   ],
   "source": [
    "# LogisticRegression (Play Tennis)\n",
    "clf_lr_pt = LogisticRegression().fit(x_train_pt, y_train_pt)\n",
    "show_param(clf_lr_pt, \"Parameters for LogisticRegression model Dataset Play Tennis:\")"
   ]
  },
  {
   "cell_type": "code",
   "execution_count": 43,
   "id": "Xm5LGdV-Rejy",
   "metadata": {
    "colab": {
     "base_uri": "https://localhost:8080/"
    },
    "id": "Xm5LGdV-Rejy",
    "outputId": "d268ed09-121b-46b2-8da4-5cba72667003"
   },
   "outputs": [
    {
     "name": "stdout",
     "output_type": "stream",
     "text": [
      "[[-0.6364867   0.29289308  0.78462682  0.69810077]] [0.19971342]\n"
     ]
    }
   ],
   "source": [
    "# Showing Coefficient and Bias from Logistic Regression in Decision Function for Play Tennis\n",
    "print(clf_lr_pt.coef_,clf_lr_pt.intercept_)"
   ]
  },
  {
   "cell_type": "code",
   "execution_count": 44,
   "id": "-XfODAGbpOyR",
   "metadata": {
    "id": "-XfODAGbpOyR"
   },
   "outputs": [],
   "source": [
    "# Predicting using LogisticRegression for Play Tennis\n",
    "y_pred_lr_pt = clf_lr_pt.predict(x_test_pt)"
   ]
  },
  {
   "cell_type": "code",
   "execution_count": 45,
   "id": "pVCN2FIupOtH",
   "metadata": {
    "colab": {
     "base_uri": "https://localhost:8080/"
    },
    "id": "pVCN2FIupOtH",
    "outputId": "096f8746-dc7d-45fe-8730-fd2317800a2b"
   },
   "outputs": [
    {
     "name": "stdout",
     "output_type": "stream",
     "text": [
      "Accuracy Score LogisticRegression (Dataset Play Tennis) = 0.6666666666666666\n"
     ]
    }
   ],
   "source": [
    "# Scoring LogisticRegression for Play Tennis (Accuracy)\n",
    "acc_lr_pt = accuracy_score(y_true_pt, y_pred_lr_pt)\n",
    "print(\"Accuracy Score LogisticRegression (Dataset Play Tennis) =\", acc_lr_pt)"
   ]
  },
  {
   "cell_type": "code",
   "execution_count": 46,
   "id": "C2-DaaB0pOoq",
   "metadata": {
    "colab": {
     "base_uri": "https://localhost:8080/"
    },
    "id": "C2-DaaB0pOoq",
    "outputId": "de35c7a5-4a89-4778-fa38-2a0fea9014eb"
   },
   "outputs": [
    {
     "name": "stdout",
     "output_type": "stream",
     "text": [
      "F1 Score LogisticRegression (Dataset Play Tennis) = 0.8\n"
     ]
    }
   ],
   "source": [
    "# Scoring LogisticRegression for Play Tennis (F1)\n",
    "f1_lr_pt = f1_score(y_true_pt, y_pred_lr_pt)\n",
    "print(\"F1 Score LogisticRegression (Dataset Play Tennis) =\", f1_lr_pt)"
   ]
  },
  {
   "cell_type": "markdown",
   "id": "QkaGCyLMZbg8",
   "metadata": {
    "id": "QkaGCyLMZbg8"
   },
   "source": [
    "## Soal 2e & 3e - Pembelajaran, Prediksi, dan Evaluasi dengan Algoritma Neural Network"
   ]
  },
  {
   "cell_type": "markdown",
   "id": "1qlsbCzEpZdr",
   "metadata": {
    "id": "1qlsbCzEpZdr"
   },
   "source": [
    "### Breast Cancer Dataset"
   ]
  },
  {
   "cell_type": "code",
   "execution_count": 47,
   "id": "T7laIbjVJN6u",
   "metadata": {
    "colab": {
     "base_uri": "https://localhost:8080/"
    },
    "id": "T7laIbjVJN6u",
    "outputId": "37a297a3-42bd-4c89-88bd-9797c286a4fa"
   },
   "outputs": [
    {
     "name": "stdout",
     "output_type": "stream",
     "text": [
      "Parameters for Neural Network model Dataset Breast Cancer:\n",
      "activation: relu\n",
      "alpha: 0.0001\n",
      "batch_size: auto\n",
      "beta_1: 0.9\n",
      "beta_2: 0.999\n",
      "early_stopping: False\n",
      "epsilon: 1e-08\n",
      "hidden_layer_sizes: (100,)\n",
      "learning_rate: constant\n",
      "learning_rate_init: 0.001\n",
      "max_fun: 15000\n",
      "max_iter: 500\n",
      "momentum: 0.9\n",
      "n_iter_no_change: 10\n",
      "nesterovs_momentum: True\n",
      "power_t: 0.5\n",
      "random_state: None\n",
      "shuffle: True\n",
      "solver: adam\n",
      "tol: 0.0001\n",
      "validation_fraction: 0.1\n",
      "verbose: False\n",
      "warm_start: False\n"
     ]
    }
   ],
   "source": [
    "# Neural Network (Breast Cancer)\n",
    "clf_mlp_bc = MLPClassifier(max_iter = 500).fit(x_train, y_train)\n",
    "show_param(clf_mlp_bc, \"Parameters for Neural Network model Dataset Breast Cancer:\")"
   ]
  },
  {
   "cell_type": "code",
   "execution_count": 48,
   "id": "p4KoBgcRvdoF",
   "metadata": {
    "colab": {
     "base_uri": "https://localhost:8080/"
    },
    "id": "p4KoBgcRvdoF",
    "outputId": "e782ca08-b753-4122-a4cb-9bd2b29fc491"
   },
   "outputs": [
    {
     "data": {
      "text/plain": [
       "[array([[-5.76897167e-02, -1.48454643e-04,  1.55861789e-01, ...,\n",
       "          3.00224953e-02, -6.57377728e-02, -1.15562187e-01],\n",
       "        [-5.31686062e-02, -7.23703166e-02,  1.04793811e-01, ...,\n",
       "         -1.57341174e-01,  5.56355058e-03, -1.99846013e-01],\n",
       "        [-6.70292229e-04, -5.75154922e-04, -1.94347974e-04, ...,\n",
       "         -1.28783231e-01,  8.94303644e-02, -1.14298180e-01],\n",
       "        ...,\n",
       "        [ 1.42338762e-03, -2.65405402e-02,  1.16626340e-02, ...,\n",
       "          5.78299694e-02, -1.06863355e-01,  1.71721066e-01],\n",
       "        [-6.05932686e-02,  8.13622704e-05, -1.91633650e-01, ...,\n",
       "          7.59505755e-03,  7.41542964e-02, -1.30949453e-02],\n",
       "        [-2.64266759e-05,  1.53071674e-03, -2.01804413e-01, ...,\n",
       "          8.53053328e-02, -1.81981873e-01,  9.79393825e-02]]),\n",
       " array([[-2.36754888e-03],\n",
       "        [-2.04251654e-04],\n",
       "        [ 9.54793407e-02],\n",
       "        [-2.08069403e-01],\n",
       "        [-1.41431743e-01],\n",
       "        [ 3.21332627e-02],\n",
       "        [ 4.49175494e-02],\n",
       "        [ 1.14983226e-01],\n",
       "        [-7.30597885e-02],\n",
       "        [-1.24561035e-06],\n",
       "        [-1.68268428e-01],\n",
       "        [-2.23706780e-01],\n",
       "        [ 1.07120648e-01],\n",
       "        [-1.07749511e-01],\n",
       "        [-1.40913824e-01],\n",
       "        [ 7.83014960e-02],\n",
       "        [-9.82663464e-02],\n",
       "        [ 1.55233977e-01],\n",
       "        [ 2.86451019e-03],\n",
       "        [-5.66281905e-02],\n",
       "        [-1.78912022e-01],\n",
       "        [-8.60333925e-02],\n",
       "        [-1.11961794e-01],\n",
       "        [-1.06584815e-01],\n",
       "        [ 1.51125479e-01],\n",
       "        [-3.03543718e-02],\n",
       "        [ 2.24436777e-02],\n",
       "        [ 2.23537094e-02],\n",
       "        [-4.04902034e-02],\n",
       "        [-5.28430008e-02],\n",
       "        [-6.77065658e-02],\n",
       "        [-6.11567737e-02],\n",
       "        [ 2.19105321e-02],\n",
       "        [ 1.94478987e-01],\n",
       "        [ 1.91839104e-01],\n",
       "        [-2.16806659e-02],\n",
       "        [-1.78966258e-02],\n",
       "        [ 8.61712910e-02],\n",
       "        [ 2.33947182e-01],\n",
       "        [ 9.59479154e-02],\n",
       "        [ 2.31495705e-01],\n",
       "        [ 1.10303914e-01],\n",
       "        [ 8.01970070e-03],\n",
       "        [-1.55189933e-01],\n",
       "        [-8.69380990e-02],\n",
       "        [-3.53173510e-02],\n",
       "        [-3.09529612e-02],\n",
       "        [-4.38516738e-02],\n",
       "        [ 1.63626959e-01],\n",
       "        [ 4.03409701e-02],\n",
       "        [-3.82021280e-02],\n",
       "        [ 7.52426755e-02],\n",
       "        [ 5.45489862e-02],\n",
       "        [ 1.24563412e-01],\n",
       "        [-3.26827119e-02],\n",
       "        [ 2.10427701e-02],\n",
       "        [ 3.16712527e-02],\n",
       "        [-1.16051749e-02],\n",
       "        [-3.28398670e-02],\n",
       "        [-9.82339917e-02],\n",
       "        [ 1.44456080e-03],\n",
       "        [ 2.01094370e-03],\n",
       "        [-2.07514372e-01],\n",
       "        [-4.32817268e-02],\n",
       "        [-1.20337023e-01],\n",
       "        [-1.30812637e-01],\n",
       "        [-1.36450621e-01],\n",
       "        [-2.11195436e-01],\n",
       "        [-4.70381798e-02],\n",
       "        [ 5.22139693e-07],\n",
       "        [-1.93315476e-02],\n",
       "        [-3.06087369e-02],\n",
       "        [-5.08741974e-02],\n",
       "        [-1.06004372e-01],\n",
       "        [ 1.06989472e-01],\n",
       "        [ 1.10235897e-02],\n",
       "        [-1.65461042e-01],\n",
       "        [ 1.95020201e-02],\n",
       "        [ 1.06048228e-01],\n",
       "        [ 1.13064470e-01],\n",
       "        [-1.05748347e-02],\n",
       "        [ 1.10960016e-01],\n",
       "        [ 9.29433665e-02],\n",
       "        [ 1.82455352e-01],\n",
       "        [-2.34231832e-01],\n",
       "        [-2.07002166e-01],\n",
       "        [ 2.44205160e-02],\n",
       "        [-2.93763541e-04],\n",
       "        [-1.88062769e-01],\n",
       "        [ 8.26929127e-02],\n",
       "        [-8.54865153e-03],\n",
       "        [ 2.29247785e-01],\n",
       "        [ 1.58351550e-02],\n",
       "        [-8.85216876e-05],\n",
       "        [ 8.45350765e-02],\n",
       "        [ 2.54254370e-02],\n",
       "        [ 1.77021476e-01],\n",
       "        [ 3.82573638e-02],\n",
       "        [-2.12804193e-01],\n",
       "        [-4.68125122e-02]])]"
      ]
     },
     "execution_count": 48,
     "metadata": {},
     "output_type": "execute_result"
    }
   ],
   "source": [
    "# Showing weight matrix from the i-th element corresponding to layer i for Breast Cancer\n",
    "clf_mlp_bc.coefs_"
   ]
  },
  {
   "cell_type": "code",
   "execution_count": 49,
   "id": "flkUxKQemI64",
   "metadata": {
    "id": "flkUxKQemI64"
   },
   "outputs": [],
   "source": [
    "# Predicting using Neural Network for Breast Cancer\n",
    "y_pred_nn_bc = clf_mlp_bc.predict(x_test)"
   ]
  },
  {
   "cell_type": "code",
   "execution_count": 50,
   "id": "gMkTiJu2KD_f",
   "metadata": {
    "colab": {
     "base_uri": "https://localhost:8080/"
    },
    "id": "gMkTiJu2KD_f",
    "outputId": "4355dcba-0496-498e-c10c-0f7b0a18f824"
   },
   "outputs": [
    {
     "name": "stdout",
     "output_type": "stream",
     "text": [
      "Accuracy Score Neural Network (Dataset Breast Cancer) = 0.9122807017543859\n"
     ]
    }
   ],
   "source": [
    "# Scoring Neural Network for Breast Cancer (Accuracy)\n",
    "acc_nn_bc = accuracy_score(y_true, y_pred_nn_bc)\n",
    "print(\"Accuracy Score Neural Network (Dataset Breast Cancer) =\", acc_nn_bc)"
   ]
  },
  {
   "cell_type": "code",
   "execution_count": 51,
   "id": "IFoW0buXKKd5",
   "metadata": {
    "colab": {
     "base_uri": "https://localhost:8080/"
    },
    "id": "IFoW0buXKKd5",
    "outputId": "df888645-eb82-45c6-f6cd-4e45d3404c1a"
   },
   "outputs": [
    {
     "name": "stdout",
     "output_type": "stream",
     "text": [
      "F1 Score Neural Network (Dataset Breast Cancer) = 0.9275362318840579\n"
     ]
    }
   ],
   "source": [
    "# Scoring Neural Network for Breast Cancer (F1)\n",
    "f1_nn_bc = f1_score(y_true, y_pred_nn_bc)\n",
    "print(\"F1 Score Neural Network (Dataset Breast Cancer) =\", f1_nn_bc)"
   ]
  },
  {
   "cell_type": "markdown",
   "id": "LzA8uf-pk-va",
   "metadata": {
    "id": "LzA8uf-pk-va"
   },
   "source": [
    "### Play-Tennis Dataset"
   ]
  },
  {
   "cell_type": "code",
   "execution_count": 52,
   "id": "w5MGERqRk_5W",
   "metadata": {
    "colab": {
     "base_uri": "https://localhost:8080/"
    },
    "id": "w5MGERqRk_5W",
    "outputId": "a8affc63-fe44-44f4-b132-1406a67a6fa0"
   },
   "outputs": [
    {
     "name": "stdout",
     "output_type": "stream",
     "text": [
      "Parameters for Neural Network model Dataset Play Tennis:\n",
      "activation: relu\n",
      "alpha: 0.0001\n",
      "batch_size: auto\n",
      "beta_1: 0.9\n",
      "beta_2: 0.999\n",
      "early_stopping: False\n",
      "epsilon: 1e-08\n",
      "hidden_layer_sizes: (100,)\n",
      "learning_rate: constant\n",
      "learning_rate_init: 0.001\n",
      "max_fun: 15000\n",
      "max_iter: 1000\n",
      "momentum: 0.9\n",
      "n_iter_no_change: 10\n",
      "nesterovs_momentum: True\n",
      "power_t: 0.5\n",
      "random_state: None\n",
      "shuffle: True\n",
      "solver: adam\n",
      "tol: 0.0001\n",
      "validation_fraction: 0.1\n",
      "verbose: False\n",
      "warm_start: False\n"
     ]
    }
   ],
   "source": [
    "# Neural Network (Play Tennis)\n",
    "clf_mlp_pt = MLPClassifier(max_iter = 1000).fit(x_train_pt, y_train_pt)\n",
    "show_param(clf_mlp_pt, \"Parameters for Neural Network model Dataset Play Tennis:\")"
   ]
  },
  {
   "cell_type": "code",
   "execution_count": 53,
   "id": "ARJmGbuZv3xU",
   "metadata": {
    "colab": {
     "base_uri": "https://localhost:8080/"
    },
    "id": "ARJmGbuZv3xU",
    "outputId": "7555deec-8a56-4a58-8ebc-4f9921595d1c"
   },
   "outputs": [
    {
     "data": {
      "text/plain": [
       "[array([[-4.02514227e-01,  8.94443004e-02, -2.26292316e-01,\n",
       "          1.62237969e-01,  3.47406986e-01, -2.13034067e-01,\n",
       "         -1.67629671e-01,  1.47268141e-01, -4.71776546e-02,\n",
       "         -1.94032993e-01,  1.01975673e-02,  6.19194113e-13,\n",
       "         -3.11379880e-01, -3.72616021e-01,  2.14932293e-01,\n",
       "          2.82223749e-01, -1.72576989e-01,  8.62216234e-02,\n",
       "         -1.76857816e-01, -1.58267000e-01,  2.56282155e-01,\n",
       "          1.39919833e-01, -3.65266093e-02,  1.76086428e-02,\n",
       "         -4.68671605e-01,  2.41129043e-01, -1.55701703e-01,\n",
       "         -4.56570998e-01, -3.92927395e-01,  2.29130820e-10,\n",
       "         -3.37902176e-02,  2.61350526e-01,  4.10385643e-01,\n",
       "          2.46265363e-01,  1.02211560e-01, -1.58156654e-01,\n",
       "         -8.96070344e-02,  3.84936881e-01, -1.07492691e-12,\n",
       "          2.86158984e-01, -9.16846531e-02,  9.96739994e-03,\n",
       "         -1.68186576e-01, -1.20624137e-01, -1.40228234e-14,\n",
       "         -4.20800967e-01, -8.50256321e-02, -9.42712212e-02,\n",
       "          1.97610664e-02,  2.33774400e-01,  7.93682957e-02,\n",
       "          1.23654416e-13,  2.11070843e-02,  1.71242601e-01,\n",
       "         -1.89707647e-01,  3.75162600e-01,  2.52766771e-01,\n",
       "          8.20007602e-03, -1.50631676e-10,  4.05311831e-12,\n",
       "          3.19877963e-01,  1.91616154e-01, -3.44417718e-01,\n",
       "         -1.65979823e-01,  3.48223021e-01, -1.06320566e-01,\n",
       "          3.66979501e-01,  4.97088727e-01,  5.30772518e-02,\n",
       "         -2.85169048e-02, -9.93057874e-06,  3.42995108e-01,\n",
       "         -8.45674508e-04,  1.87128778e-01, -3.34485030e-09,\n",
       "          1.58392296e-01, -2.87370320e-15, -4.50491242e-01,\n",
       "          4.18850081e-14,  5.61882685e-02,  3.90480502e-09,\n",
       "         -9.66541665e-04,  1.17546728e-12,  2.69693294e-02,\n",
       "         -1.00409971e-01,  1.17724239e-01,  2.66920319e-01,\n",
       "         -9.06380887e-02,  1.76547138e-01,  2.51673387e-01,\n",
       "          1.79758761e-01, -6.83350942e-02,  1.40956172e-01,\n",
       "         -5.61531925e-01, -8.90395266e-02, -3.68085011e-01,\n",
       "         -1.43068961e-01, -4.16177205e-01, -1.25136863e-01,\n",
       "         -2.73802659e-01],\n",
       "        [ 3.98869512e-03, -4.19684134e-01,  2.25534256e-01,\n",
       "         -1.04836945e-01, -1.66314875e-01, -2.59296805e-01,\n",
       "          2.51489648e-01,  7.42264864e-02,  2.89861387e-01,\n",
       "          2.91567355e-01,  2.33509440e-01, -2.67324125e-03,\n",
       "          3.65944729e-01,  2.45203735e-01, -3.64623689e-02,\n",
       "         -2.51394061e-01,  4.42660988e-01,  9.67691083e-02,\n",
       "         -3.11278776e-01,  1.42574815e-01, -1.46948085e-01,\n",
       "          5.20905413e-02,  4.93367926e-01,  1.17981142e-01,\n",
       "          2.47324816e-01,  1.32727822e-01,  3.67112025e-01,\n",
       "          9.53669437e-02,  6.25075881e-02, -1.66961035e-04,\n",
       "          3.68198884e-01,  1.40301388e-01, -1.71804632e-01,\n",
       "          3.13498087e-02,  6.54035390e-02,  5.02469367e-01,\n",
       "         -2.32487676e-01, -8.19607014e-02, -1.12107933e-13,\n",
       "          8.19466231e-02, -1.84039115e-01, -3.76242169e-02,\n",
       "          3.67880619e-01, -2.80691715e-01, -1.22761001e-14,\n",
       "          1.86219627e-02, -3.37378279e-01, -3.41798537e-01,\n",
       "          3.76300995e-01,  6.17570778e-02, -1.55291632e-02,\n",
       "         -3.90137619e-05, -2.13916330e-01,  4.27157325e-02,\n",
       "          2.19184266e-01,  8.90886614e-02, -9.96446819e-02,\n",
       "          4.22016069e-01, -4.15901389e-15, -2.65256004e-03,\n",
       "          1.29627150e-01, -1.46051179e-02,  3.31876529e-01,\n",
       "          5.57810387e-01, -2.77621989e-02, -2.94100422e-01,\n",
       "          1.17502501e-01, -1.55037004e-01, -4.63856168e-01,\n",
       "          7.56503103e-02, -1.27188994e-12, -6.58899433e-02,\n",
       "          4.03020800e-01,  8.76927827e-03,  2.69687855e-09,\n",
       "         -3.61680746e-01,  3.87035836e-15,  4.54842149e-02,\n",
       "         -2.97029813e-14, -4.40494430e-01, -1.68135880e-03,\n",
       "          5.99240195e-01, -3.44743087e-04, -2.03378167e-01,\n",
       "          3.80144859e-01, -4.02988554e-01,  2.41138918e-02,\n",
       "          2.54572768e-01,  1.27629089e-01,  1.30784740e-01,\n",
       "          1.18960554e-01,  2.33890012e-01,  1.30181428e-01,\n",
       "          2.53238399e-01, -3.07666679e-01,  3.38922923e-01,\n",
       "         -2.69500154e-01,  8.31989808e-02,  1.49435368e-01,\n",
       "         -2.88637862e-01],\n",
       "        [-2.06102092e-02,  1.94495023e-01,  5.73856729e-01,\n",
       "         -1.26720636e-01, -3.26746926e-01, -2.97459753e-02,\n",
       "          4.40972294e-01,  3.80794050e-01, -5.48524044e-01,\n",
       "          2.81131114e-01,  2.86144847e-01, -7.35056043e-14,\n",
       "          1.70186426e-01, -7.48462167e-02, -2.04994730e-01,\n",
       "          5.67008441e-03,  3.43823000e-01, -5.24211238e-01,\n",
       "          3.20839066e-02,  5.25460749e-01, -2.84293573e-01,\n",
       "         -5.86240578e-01,  4.60919568e-01,  2.60033585e-01,\n",
       "         -2.20279994e-02, -6.06583249e-01,  1.74915693e-01,\n",
       "          1.73361265e-01,  1.25171642e-01, -6.88812444e-05,\n",
       "          4.29549219e-01, -3.89454736e-01, -5.62149155e-01,\n",
       "         -5.39883722e-01, -5.38847673e-01,  4.61855601e-01,\n",
       "         -1.91049739e-02, -3.35092105e-01, -1.14770517e-03,\n",
       "         -6.04242635e-01,  3.00041923e-01, -3.18886239e-02,\n",
       "          3.30238105e-01,  5.57268331e-01,  1.36819479e-14,\n",
       "          3.12762316e-03,  2.34612323e-02,  4.29501706e-03,\n",
       "          2.08948793e-01,  6.10015292e-01,  7.44990393e-02,\n",
       "          2.39678409e-07, -4.01491929e-02,  5.62929697e-01,\n",
       "          5.98891176e-01, -1.02971958e-01,  4.76096250e-01,\n",
       "          2.80726544e-01,  2.87705850e-15, -4.22987856e-06,\n",
       "          3.84658281e-02, -4.78176980e-02,  3.18940997e-01,\n",
       "          5.71106692e-01, -9.17024313e-02,  4.66254057e-01,\n",
       "         -3.40431899e-01, -3.43387679e-01, -1.87552454e-02,\n",
       "          4.92340003e-01, -2.98319608e-12, -4.87460634e-01,\n",
       "          3.38253111e-01,  4.38300903e-01, -1.21687914e-09,\n",
       "          2.10378843e-01, -1.18124504e-03,  6.74450019e-02,\n",
       "          1.01840433e-03,  5.56893545e-02,  8.91597935e-16,\n",
       "          5.10676184e-01, -1.36199686e-04, -5.93920932e-02,\n",
       "          4.21987839e-01,  1.76351444e-01, -6.10506173e-01,\n",
       "          3.05340265e-01, -5.30602669e-01, -3.73496872e-01,\n",
       "         -5.82552701e-01,  2.77174869e-01,  3.53616938e-02,\n",
       "          3.94230583e-03,  4.83915342e-01,  3.41131177e-01,\n",
       "          3.49373735e-01,  1.65984659e-01,  2.75884994e-01,\n",
       "          5.12677434e-01],\n",
       "        [ 2.93456047e-01,  6.28927587e-01,  2.38782194e-01,\n",
       "         -1.80153675e-01, -6.04582025e-02,  1.40604818e-01,\n",
       "          3.36335800e-01,  3.62502953e-01, -3.53908723e-01,\n",
       "          2.55177716e-01,  2.98106102e-01, -1.26704478e-12,\n",
       "          9.28002059e-02,  1.01348335e-01, -4.94543770e-01,\n",
       "         -5.96610483e-02,  7.37400394e-02,  1.80491899e-01,\n",
       "          5.20299411e-01,  4.33915057e-01, -2.70826648e-01,\n",
       "          1.02990005e-01,  4.31203598e-01,  3.70547998e-01,\n",
       "          2.65920473e-01,  2.64541355e-01, -3.64564771e-02,\n",
       "          1.24729546e-01,  4.78101987e-01, -1.74746815e-14,\n",
       "          1.98131102e-01,  1.46645381e-01, -4.85317306e-01,\n",
       "          6.16719365e-02,  1.30449359e-01,  3.14026728e-01,\n",
       "          3.31259981e-01, -5.03556557e-02,  9.12031557e-14,\n",
       "          1.63365592e-01, -3.66510033e-01, -2.09840567e-01,\n",
       "          4.78528862e-01, -5.61454357e-01, -2.13085042e-15,\n",
       "          2.75041321e-01,  4.46234212e-01,  4.40848654e-01,\n",
       "          4.32879346e-01,  5.07570055e-01, -5.17042716e-02,\n",
       "         -4.03494574e-07,  6.56597863e-02,  2.66736903e-01,\n",
       "          4.08713675e-01, -3.34083795e-01,  1.71044401e-01,\n",
       "         -1.53149204e-01, -7.87966397e-07,  1.74922602e-09,\n",
       "         -2.59058751e-01, -4.32236175e-01, -4.30516181e-02,\n",
       "          5.25868736e-01, -3.64530445e-01, -5.87539770e-01,\n",
       "         -4.53098153e-01, -4.41417474e-01,  3.92637396e-01,\n",
       "          2.63784111e-01, -4.29815528e-06, -3.86696190e-01,\n",
       "          2.72049832e-01,  7.16035479e-02,  2.09832752e-05,\n",
       "          4.13608822e-01, -1.76552044e-07,  2.58975632e-01,\n",
       "         -4.21795601e-05,  4.40357788e-01, -1.95624696e-03,\n",
       "          3.52409247e-01, -2.13035552e-03,  1.17061857e-01,\n",
       "          2.27816271e-01,  4.61852712e-01,  4.78582464e-02,\n",
       "          3.71316606e-01,  2.54232827e-01, -5.51427810e-02,\n",
       "          2.37653897e-01,  4.17318243e-01, -2.92280008e-01,\n",
       "          5.91838925e-02, -6.14801690e-01, -3.60494328e-02,\n",
       "         -5.37899472e-01,  5.34635904e-01,  2.16088607e-01,\n",
       "         -5.20741289e-01]]),\n",
       " array([[ 5.87349227e-01],\n",
       "        [ 5.35040044e-01],\n",
       "        [ 2.41721636e-01],\n",
       "        [-2.08877959e-01],\n",
       "        [-3.85052208e-01],\n",
       "        [-9.91808364e-03],\n",
       "        [ 2.61785581e-01],\n",
       "        [ 5.15393367e-01],\n",
       "        [-4.57690347e-01],\n",
       "        [ 3.03359891e-01],\n",
       "        [ 5.46040336e-01],\n",
       "        [-1.88810278e-10],\n",
       "        [ 3.28209072e-01],\n",
       "        [ 1.27857950e-01],\n",
       "        [-3.95618000e-01],\n",
       "        [-3.93889550e-01],\n",
       "        [ 3.31931181e-01],\n",
       "        [-3.64042423e-01],\n",
       "        [ 3.58504635e-01],\n",
       "        [ 7.36346433e-01],\n",
       "        [-1.61462233e-01],\n",
       "        [-5.48951007e-01],\n",
       "        [ 3.87703667e-01],\n",
       "        [ 5.12840531e-01],\n",
       "        [ 4.72487998e-01],\n",
       "        [-7.02666455e-01],\n",
       "        [ 5.22951916e-01],\n",
       "        [ 5.64851118e-01],\n",
       "        [ 3.12974339e-01],\n",
       "        [ 1.55873558e-09],\n",
       "        [ 3.52205126e-01],\n",
       "        [-4.15919362e-01],\n",
       "        [-4.97366450e-01],\n",
       "        [-3.37025958e-01],\n",
       "        [-4.62998330e-01],\n",
       "        [ 3.00335289e-01],\n",
       "        [ 4.84314629e-01],\n",
       "        [-4.76710295e-01],\n",
       "        [-1.54781989e-15],\n",
       "        [-3.25349828e-01],\n",
       "        [-6.67390066e-01],\n",
       "        [ 9.60882169e-02],\n",
       "        [ 2.40500304e-01],\n",
       "        [-5.72136107e-01],\n",
       "        [-3.97614693e-03],\n",
       "        [ 5.12827027e-01],\n",
       "        [ 5.87507850e-01],\n",
       "        [ 3.01378959e-01],\n",
       "        [ 4.75391356e-01],\n",
       "        [ 3.82192371e-01],\n",
       "        [-5.27234400e-03],\n",
       "        [-2.50089684e-04],\n",
       "        [ 3.49914359e-02],\n",
       "        [ 4.08636649e-01],\n",
       "        [ 4.35768194e-01],\n",
       "        [-3.72766442e-01],\n",
       "        [ 4.26204508e-01],\n",
       "        [ 5.43187517e-01],\n",
       "        [ 8.34302182e-04],\n",
       "        [-1.07141050e-13],\n",
       "        [-3.42697247e-01],\n",
       "        [-4.22184796e-01],\n",
       "        [ 3.44070307e-01],\n",
       "        [ 2.51231160e-01],\n",
       "        [-3.81640150e-01],\n",
       "        [-4.52821554e-01],\n",
       "        [-4.11811959e-01],\n",
       "        [-3.56235732e-01],\n",
       "        [ 3.88862314e-01],\n",
       "        [ 5.36074490e-01],\n",
       "        [ 8.46894938e-05],\n",
       "        [-4.62395247e-01],\n",
       "        [ 2.66647701e-01],\n",
       "        [ 5.61786266e-01],\n",
       "        [-2.04498881e-15],\n",
       "        [ 4.18007340e-01],\n",
       "        [ 1.23954198e-12],\n",
       "        [ 4.13656478e-01],\n",
       "        [ 2.49555784e-03],\n",
       "        [ 6.39604193e-01],\n",
       "        [ 2.68763797e-14],\n",
       "        [ 4.04259112e-01],\n",
       "        [-3.26613092e-03],\n",
       "        [ 2.18001153e-01],\n",
       "        [ 3.52754231e-01],\n",
       "        [ 2.56584505e-01],\n",
       "        [-5.47113377e-01],\n",
       "        [ 3.93702883e-01],\n",
       "        [-6.61352654e-01],\n",
       "        [-5.52925073e-01],\n",
       "        [-5.44577376e-01],\n",
       "        [ 3.77495316e-01],\n",
       "        [-2.86415747e-01],\n",
       "        [ 5.60782790e-01],\n",
       "        [-4.23217516e-01],\n",
       "        [ 2.95516126e-01],\n",
       "        [-5.30499080e-01],\n",
       "        [ 5.76988198e-01],\n",
       "        [ 4.54444966e-01],\n",
       "        [-5.47224801e-01]])]"
      ]
     },
     "execution_count": 53,
     "metadata": {},
     "output_type": "execute_result"
    }
   ],
   "source": [
    "# Showing weight matrix from the i-th element corresponding to layer i for Play Tennis\n",
    "clf_mlp_pt.coefs_"
   ]
  },
  {
   "cell_type": "code",
   "execution_count": 54,
   "id": "I_uLUL9Klq6v",
   "metadata": {
    "id": "I_uLUL9Klq6v"
   },
   "outputs": [],
   "source": [
    "# Predicting using Neural Network for Play Tennis\n",
    "y_pred_nn_pt = clf_mlp_pt.predict(x_test_pt)"
   ]
  },
  {
   "cell_type": "code",
   "execution_count": 55,
   "id": "Bumo_MF9lt3-",
   "metadata": {
    "colab": {
     "base_uri": "https://localhost:8080/"
    },
    "id": "Bumo_MF9lt3-",
    "outputId": "d1f87557-ac46-4b23-f133-cb05a0c47c4c"
   },
   "outputs": [
    {
     "name": "stdout",
     "output_type": "stream",
     "text": [
      "Accuracy Score Neural Network (Dataset Play Tennis) = 1.0\n"
     ]
    }
   ],
   "source": [
    "# Scoring Neural Network for Play Tennis (Accuracy)\n",
    "acc_nn_pt = accuracy_score(y_true_pt, y_pred_nn_pt)\n",
    "print(\"Accuracy Score Neural Network (Dataset Play Tennis) =\", acc_nn_pt)"
   ]
  },
  {
   "cell_type": "code",
   "execution_count": 56,
   "id": "urx8P3h5luj-",
   "metadata": {
    "colab": {
     "base_uri": "https://localhost:8080/"
    },
    "id": "urx8P3h5luj-",
    "outputId": "29f8eeb1-6fcf-4749-cddd-d9228a0588d5"
   },
   "outputs": [
    {
     "name": "stdout",
     "output_type": "stream",
     "text": [
      "F1 Score Neural Network (Dataset Play Tennis) = 1.0\n"
     ]
    }
   ],
   "source": [
    "# Scoring Neural Network for Play Tennis (F1)\n",
    "f1_nn_pt = f1_score(y_true_pt, y_pred_nn_pt)\n",
    "print(\"F1 Score Neural Network (Dataset Play Tennis) =\", f1_nn_pt)"
   ]
  },
  {
   "cell_type": "markdown",
   "id": "FxjE1OIQZhbb",
   "metadata": {
    "id": "FxjE1OIQZhbb"
   },
   "source": [
    "## Soal 2f & 3f - Pembelajaran, Prediksi, dan Evaluasi dengan Algoritma SVM"
   ]
  },
  {
   "cell_type": "markdown",
   "id": "sRsookqRpajB",
   "metadata": {
    "id": "sRsookqRpajB"
   },
   "source": [
    "### Breast Cancer Dataset"
   ]
  },
  {
   "cell_type": "code",
   "execution_count": 57,
   "id": "IOMKghlCK2kI",
   "metadata": {
    "colab": {
     "base_uri": "https://localhost:8080/"
    },
    "id": "IOMKghlCK2kI",
    "outputId": "64823f21-099d-454d-dadf-9859b495925e"
   },
   "outputs": [
    {
     "name": "stdout",
     "output_type": "stream",
     "text": [
      "Parameters for SVM model Dataset Breast Cancer:\n",
      "memory: None\n",
      "steps: [('standardscaler', StandardScaler()), ('svc', SVC(gamma='auto'))]\n",
      "verbose: False\n",
      "standardscaler: StandardScaler()\n",
      "svc: SVC(gamma='auto')\n",
      "standardscaler__copy: True\n",
      "standardscaler__with_mean: True\n",
      "standardscaler__with_std: True\n",
      "svc__C: 1.0\n",
      "svc__break_ties: False\n",
      "svc__cache_size: 200\n",
      "svc__class_weight: None\n",
      "svc__coef0: 0.0\n",
      "svc__decision_function_shape: ovr\n",
      "svc__degree: 3\n",
      "svc__gamma: auto\n",
      "svc__kernel: rbf\n",
      "svc__max_iter: -1\n",
      "svc__probability: False\n",
      "svc__random_state: None\n",
      "svc__shrinking: True\n",
      "svc__tol: 0.001\n",
      "svc__verbose: False\n"
     ]
    }
   ],
   "source": [
    "# SVM (Breast Cancer)\n",
    "clf_svm_bc = make_pipeline(StandardScaler(), SVC(gamma='auto')).fit(x_train, y_train)\n",
    "show_param(clf_svm_bc, \"Parameters for SVM model Dataset Breast Cancer:\")"
   ]
  },
  {
   "cell_type": "code",
   "execution_count": 58,
   "id": "CAQom-QdwEQh",
   "metadata": {
    "colab": {
     "base_uri": "https://localhost:8080/"
    },
    "id": "CAQom-QdwEQh",
    "outputId": "31dba4db-1bb9-486c-f51e-8adce6ca9101"
   },
   "outputs": [
    {
     "data": {
      "text/plain": [
       "array([[ 2.4702554 ,  0.10292725,  2.67043636, ...,  2.69558848,\n",
       "         1.86311642,  0.71945803],\n",
       "       [ 0.94590949, -0.6490507 ,  1.08421561, ...,  2.14760699,\n",
       "         1.880914  ,  1.15107672],\n",
       "       [ 0.09310778,  0.76521976,  0.12601758, ...,  0.33926808,\n",
       "        -0.3324573 , -0.05540797],\n",
       "       ...,\n",
       "       [-0.14757842,  2.06680852, -0.21364055, ..., -0.8539616 ,\n",
       "        -0.33892915, -0.7505242 ],\n",
       "       [ 0.17036508,  0.02703957,  0.14670742, ..., -0.27355788,\n",
       "        -0.69973456, -0.53390659],\n",
       "       [-1.25562635, -0.89281114, -1.16666612, ...,  0.65740178,\n",
       "         0.3309069 ,  2.22877631]])"
      ]
     },
     "execution_count": 58,
     "metadata": {},
     "output_type": "execute_result"
    }
   ],
   "source": [
    "# SVM Support Vector [Showing SVM Model for Breast Cancer]\n",
    "clf_svm_bc.named_steps[\"svc\"].support_vectors_"
   ]
  },
  {
   "cell_type": "code",
   "execution_count": 59,
   "id": "_vYr2GdVmfiE",
   "metadata": {
    "id": "_vYr2GdVmfiE"
   },
   "outputs": [],
   "source": [
    "# Predicting using SVM for Breast Cancer\n",
    "y_pred_svm_bc = clf_svm_bc.predict(x_test)"
   ]
  },
  {
   "cell_type": "code",
   "execution_count": 60,
   "id": "ZpCLrL5wMfDP",
   "metadata": {
    "colab": {
     "base_uri": "https://localhost:8080/"
    },
    "id": "ZpCLrL5wMfDP",
    "outputId": "5a8a2cd8-c643-4fea-83a8-7632b4411530"
   },
   "outputs": [
    {
     "name": "stdout",
     "output_type": "stream",
     "text": [
      "Accuracy Score SVM (Dataset Breast Cancer) = 0.9649122807017544\n"
     ]
    }
   ],
   "source": [
    "# Scoring SVM for Breast Cancer (Accuracy)\n",
    "acc_svm_bc = accuracy_score(y_true, y_pred_svm_bc)\n",
    "print(\"Accuracy Score SVM (Dataset Breast Cancer) =\", acc_svm_bc)"
   ]
  },
  {
   "cell_type": "code",
   "execution_count": 61,
   "id": "WyXKE-ecMj7G",
   "metadata": {
    "colab": {
     "base_uri": "https://localhost:8080/"
    },
    "id": "WyXKE-ecMj7G",
    "outputId": "b66876e4-8ddd-4949-8f84-8b93679b8d29"
   },
   "outputs": [
    {
     "name": "stdout",
     "output_type": "stream",
     "text": [
      "F1 Score SVM (Dataset Breast Cancer) = 0.9275362318840579\n"
     ]
    }
   ],
   "source": [
    "# Scoring SVM for Breast Cancer (F1)\n",
    "f1_svm_bc = f1_score(y_true, y_pred_svm_bc)\n",
    "print(\"F1 Score SVM (Dataset Breast Cancer) =\", f1_nn_bc)"
   ]
  },
  {
   "cell_type": "markdown",
   "id": "eRsumwnhoWFy",
   "metadata": {
    "id": "eRsumwnhoWFy"
   },
   "source": [
    "### Play-Tennis Dataset"
   ]
  },
  {
   "cell_type": "code",
   "execution_count": 62,
   "id": "KqxGVv_iOOTj",
   "metadata": {
    "colab": {
     "base_uri": "https://localhost:8080/"
    },
    "id": "KqxGVv_iOOTj",
    "outputId": "b8257a38-600f-4d7d-ad9f-27607600a682"
   },
   "outputs": [
    {
     "name": "stdout",
     "output_type": "stream",
     "text": [
      "Parameters for SVM model Dataset Play Tennis:\n",
      "memory: None\n",
      "steps: [('standardscaler', StandardScaler()), ('svc', SVC(gamma='auto'))]\n",
      "verbose: False\n",
      "standardscaler: StandardScaler()\n",
      "svc: SVC(gamma='auto')\n",
      "standardscaler__copy: True\n",
      "standardscaler__with_mean: True\n",
      "standardscaler__with_std: True\n",
      "svc__C: 1.0\n",
      "svc__break_ties: False\n",
      "svc__cache_size: 200\n",
      "svc__class_weight: None\n",
      "svc__coef0: 0.0\n",
      "svc__decision_function_shape: ovr\n",
      "svc__degree: 3\n",
      "svc__gamma: auto\n",
      "svc__kernel: rbf\n",
      "svc__max_iter: -1\n",
      "svc__probability: False\n",
      "svc__random_state: None\n",
      "svc__shrinking: True\n",
      "svc__tol: 0.001\n",
      "svc__verbose: False\n"
     ]
    }
   ],
   "source": [
    "# SVM (Play Tennis)\n",
    "clf_svm_pt = make_pipeline(StandardScaler(), SVC(gamma='auto')).fit(x_train_pt, y_train_pt)\n",
    "show_param(clf_svm_pt, \"Parameters for SVM model Dataset Play Tennis:\")"
   ]
  },
  {
   "cell_type": "code",
   "execution_count": 63,
   "id": "lBlcCiNdOB4k",
   "metadata": {
    "colab": {
     "base_uri": "https://localhost:8080/"
    },
    "id": "lBlcCiNdOB4k",
    "outputId": "5a10f5ce-51dd-44f2-e421-7cd35dc9e9f0"
   },
   "outputs": [
    {
     "data": {
      "text/plain": [
       "array([[ 2.4702554 ,  0.10292725,  2.67043636, ...,  2.69558848,\n",
       "         1.86311642,  0.71945803],\n",
       "       [ 0.94590949, -0.6490507 ,  1.08421561, ...,  2.14760699,\n",
       "         1.880914  ,  1.15107672],\n",
       "       [ 0.09310778,  0.76521976,  0.12601758, ...,  0.33926808,\n",
       "        -0.3324573 , -0.05540797],\n",
       "       ...,\n",
       "       [-0.14757842,  2.06680852, -0.21364055, ..., -0.8539616 ,\n",
       "        -0.33892915, -0.7505242 ],\n",
       "       [ 0.17036508,  0.02703957,  0.14670742, ..., -0.27355788,\n",
       "        -0.69973456, -0.53390659],\n",
       "       [-1.25562635, -0.89281114, -1.16666612, ...,  0.65740178,\n",
       "         0.3309069 ,  2.22877631]])"
      ]
     },
     "execution_count": 63,
     "metadata": {},
     "output_type": "execute_result"
    }
   ],
   "source": [
    "# SVM Support Vector [Showing SVM Model for Breast Cancer]\n",
    "clf_svm_bc.named_steps[\"svc\"].support_vectors_"
   ]
  },
  {
   "cell_type": "code",
   "execution_count": 64,
   "id": "v4OkkM_Speo6",
   "metadata": {
    "id": "v4OkkM_Speo6"
   },
   "outputs": [],
   "source": [
    "# Predicting using SVM for Play Tennis\n",
    "y_pred_svm_pt = clf_svm_pt.predict(x_test_pt)"
   ]
  },
  {
   "cell_type": "code",
   "execution_count": 65,
   "id": "YGMYNsf7pfL7",
   "metadata": {
    "colab": {
     "base_uri": "https://localhost:8080/"
    },
    "id": "YGMYNsf7pfL7",
    "outputId": "f93885d0-979f-4f5d-8194-ddee37df65b4"
   },
   "outputs": [
    {
     "name": "stdout",
     "output_type": "stream",
     "text": [
      "Accuracy Score SVM (Dataset Play Tennis) = 1.0\n"
     ]
    }
   ],
   "source": [
    "# Scoring SVM for Play Tennis (Accuracy)\n",
    "acc_svm_pt = accuracy_score(y_true_pt, y_pred_svm_pt)\n",
    "print(\"Accuracy Score SVM (Dataset Play Tennis) =\", acc_svm_pt)"
   ]
  },
  {
   "cell_type": "code",
   "execution_count": 66,
   "id": "SAlT8IDbpfgT",
   "metadata": {
    "colab": {
     "base_uri": "https://localhost:8080/"
    },
    "id": "SAlT8IDbpfgT",
    "outputId": "377c2320-3bfd-4a9d-85ce-1b7a9231d232"
   },
   "outputs": [
    {
     "name": "stdout",
     "output_type": "stream",
     "text": [
      "F1 Score SVM (Dataset Play Tennis) = 1.0\n"
     ]
    }
   ],
   "source": [
    "# Scoring SVM for Play Tennis (F1)\n",
    "f1_svm_pt = f1_score(y_true_pt, y_pred_svm_pt)\n",
    "print(\"F1 Score SVM (Dataset Play Tennis) =\", f1_nn_pt)"
   ]
  },
  {
   "cell_type": "markdown",
   "id": "FXVI3M3iPldB",
   "metadata": {
    "id": "FXVI3M3iPldB"
   },
   "source": [
    "## Soal 3 - Evaluasi seluruh hasil prediksi"
   ]
  },
  {
   "cell_type": "code",
   "execution_count": 67,
   "id": "FISSxSzMPsY1",
   "metadata": {
    "colab": {
     "base_uri": "https://localhost:8080/"
    },
    "id": "FISSxSzMPsY1",
    "outputId": "bc888702-6e5a-4cc6-f57e-ee514d980542"
   },
   "outputs": [
    {
     "name": "stdout",
     "output_type": "stream",
     "text": [
      "BC = Breast Cancer, PT = Play-Tennis\n",
      "╒════════════════════════╤═══════════════╤══════════╤═══════════════╤══════════╕\n",
      "│                        │   Accuracy_BC │    F1_BC │   Accuracy_PT │    F1_PT │\n",
      "╞════════════════════════╪═══════════════╪══════════╪═══════════════╪══════════╡\n",
      "│ DecisionTreeClassifier │      0.929825 │ 0.942029 │      0.666667 │ 0.666667 │\n",
      "├────────────────────────┼───────────────┼──────────┼───────────────┼──────────┤\n",
      "│ Id3Estimator           │      0.921053 │ 0.932331 │      0.666667 │ 0.666667 │\n",
      "├────────────────────────┼───────────────┼──────────┼───────────────┼──────────┤\n",
      "│ K Means                │      0.868421 │ 0.899329 │      1        │ 1        │\n",
      "├────────────────────────┼───────────────┼──────────┼───────────────┼──────────┤\n",
      "│ LogisticRegression     │      0.947368 │ 0.955882 │      0.666667 │ 0.8      │\n",
      "├────────────────────────┼───────────────┼──────────┼───────────────┼──────────┤\n",
      "│ Neural Network         │      0.912281 │ 0.927536 │      1        │ 1        │\n",
      "├────────────────────────┼───────────────┼──────────┼───────────────┼──────────┤\n",
      "│ SVM                    │      0.964912 │ 0.970588 │      1        │ 1        │\n",
      "╘════════════════════════╧═══════════════╧══════════╧═══════════════╧══════════╛\n"
     ]
    }
   ],
   "source": [
    "# Showing all evaluation results [All Models]\n",
    "headers = [\"Accuracy_BC\", \"F1_BC\", \"Accuracy_PT\", \"F1_PT\"]\n",
    "indexes = [\"DecisionTreeClassifier\", \"Id3Estimator\", \"K Means\", \"LogisticRegression\", \"Neural Network\", \"SVM\"]\n",
    "data = [\n",
    "        [acc_dtc_bc, f1_dtc_bc, acc_dtc_pt, f1_dtc_pt],\n",
    "        [acc_id3_bc, f1_id3_bc, acc_id3_pt, f1_id3_pt],\n",
    "        [acc_km_bc, f1_km_bc, acc_km_pt, f1_km_pt],\n",
    "        [acc_lr_bc, f1_lr_bc, acc_lr_pt, f1_lr_pt],\n",
    "        [acc_nn_bc, f1_nn_bc, acc_nn_pt, f1_nn_pt],\n",
    "        [acc_svm_bc, f1_svm_bc, acc_svm_pt, f1_svm_pt]\n",
    "]\n",
    "print(\"BC = Breast Cancer, PT = Play-Tennis\")\n",
    "print(tabulate.tabulate(data, headers, tablefmt=\"fancy_grid\", showindex=indexes))"
   ]
  },
  {
   "cell_type": "markdown",
   "id": "QdeSqXgzb7gY",
   "metadata": {
    "id": "QdeSqXgzb7gY"
   },
   "source": [
    "## Soal 4 - Analisis hasil Accuracy dan F1 Seluruh Algoritma Pembelajaran"
   ]
  },
  {
   "cell_type": "markdown",
   "id": "Ls_syGoUmK13",
   "metadata": {
    "id": "Ls_syGoUmK13"
   },
   "source": [
    "*Accuracy Score* adalah suatu metode penilaian yang menghitung seberapa besar tingkat akurasi subset dari model dalam klasifikasi multi label. Selain itu, metode ini juga menghitung tingkat akurasi dalam memprediksi dengan menjalankan data testing. Caranya adalah dengan menilai seberapa besar persentase kebenaran yang diprediksi oleh model dalam dataset untuk evaluasi.\n",
    "\n",
    "Metode penilaian lainnya adalah *F1 Score* yang merupakan fungsi dari nilai *precision* dan *recall*. *Precision* berhubungan dengan seberapa tepat model memprediksi positif dari seluruh data yang diberikan label positif oleh model, sedangkan *recall* berhubungan dengan banyaknya data yang benar diprediksi positif dari seluruh data yang memang terkategori positif. Sehingga, *F1 Score* merupakan fungsi yang mempertimbangkan *precision* dan *recall* sehingga lebih baik digunakan ketika terdapat cost lebih ketika memprediksi *False Negative* dan *False Positive*.\n",
    "\n",
    "Untuk dataset *Breast Cancer*, nilai yang paling baik digunakan sebagai metrik untuk menilai model adalah *F1 Score* karena mempertimbangkan *Precision* dan *recall*. Sehingga sebisa mungkin menghindari *False Negative* atau *False Positive*. Untuk dataset Play Tennis, berbagai *random* *state* biasanya memiliki *F1 Score* dan *Accuracy Score* yang sama. Namun, banyak terdapat *random* *state* yang memiliki nilai *F1 Score* yang lebih baik dibandingkan dengan *Accuracy Score*."
   ]
  },
  {
   "cell_type": "markdown",
   "id": "42Hy8CmDWdP7",
   "metadata": {
    "id": "42Hy8CmDWdP7"
   },
   "source": [
    "Dataset Play Tennis memiliki lima belas baris data yang delapan puluh persennya digunakan untuk *training* model dan dua puluh persennya digunakan untuk set evaluasi. Status pembagian dataset tersebut ditandai oleh suatu *state* *random*. Saat dilakukan *training* model dengan suatu *state* *random*, diperoleh berbagai hasil penilaian yang seragam saat dilakukan *scoring* menggunakan metode *Accuracy Score* dan *F1 Score*. Namun demikian, hal tersebut tidak berlaku saat dilakukan pembentukan *training* model lain dengan *state* *random* yang lain juga. Angka hasil *scoring* saat dilakukan perubahan *state* *random* yang berbeda tersebut memiliki margin perubahan yang sangat besar. Melalui scoring dengan metode *Accuracy Score*, pemberlakuan *evaluation set* sebesar dua puluh persen dari lima belas baris data yang berarti penilaian dilakukan dengan tiga set dapat menghasilkan lebih dari 2 hasil yang berbeda. Terdapat kasus-kasus dimana penilaian model menggunakan *Accuracy Score* menghasilkan angka 0.33, 0.66, dan juga 1. Tentu hasil ini membuat *training* model kurang akurat dan sangat bergantung dengan *state* *random* di bagian awal saat pembagian dataset. Hal ini dapat disebabkan oleh jumlah data yang sangat sedikit dengan parameter atribut yang dapat dibilang tidak sedikit atau simpel. Oleh karena itu, perbedaan pembagian dataset untuk *training* dan evaluasi dapat memberikan hasil penilaian yang sangat berbeda. Tanpa patokan data yang beragam untuk *training* model, prediksi yang dilakukan pada *evaluation set* oleh model dapat mengalami banyak kegagalan karena kurang relevannya model hasil *training* dengan *evaluation set*.\n",
    "\n",
    "Sedangkan, dataset *Breast Cancer* hanya sedikit terpengaruhi *state* awal yang *random*. Hal ini dikarenakan dataset yang memiliki jumlah data yang banyak dan variasi yang baik, sehingga hasil yang didapatkan dengan *random* *state* yang berbeda lebih konsisten dengan margin yang sedikit. Ketika *random* *state* pemisahan data berganti, hasil *Accuracy Score* dan *F1 Score* dari tiap model yang melakukan *training* dengan dataset *Breast Cancer* tidak mengalami perubahan yang signifikan.\n",
    "\n",
    "Dari seluruh algoritma yang ada, algoritma yang menghasilkan model dengan hasil fungsi prediksi paling baik untuk *Breast Cancer* secara konsisten dengan berbagai *random* *state* adalah SVM atau *Support Vector Machines*. Sedangkan, algoritma yang dengan konsisten menghasilkan nilai prediksi yang paling buruk diantara model lainnya adalah K Means."
   ]
  }
 ],
 "metadata": {
  "colab": {
   "collapsed_sections": [],
   "name": "Tucil1_13519135_13519141.ipynb",
   "provenance": []
  },
  "kernelspec": {
   "display_name": "Python 3 (ipykernel)",
   "language": "python",
   "name": "python3"
  },
  "language_info": {
   "codemirror_mode": {
    "name": "ipython",
    "version": 3
   },
   "file_extension": ".py",
   "mimetype": "text/x-python",
   "name": "python",
   "nbconvert_exporter": "python",
   "pygments_lexer": "ipython3",
   "version": "3.8.8"
  }
 },
 "nbformat": 4,
 "nbformat_minor": 5
}
